{
 "cells": [
  {
   "cell_type": "code",
   "execution_count": 1,
   "metadata": {},
   "outputs": [],
   "source": [
    "import numpy as np\n",
    "import matplotlib.pyplot as plt\n",
    "import pandas as pd\n",
    "import seaborn as sns\n",
    "\n",
    "import warnings\n",
    "warnings.filterwarnings('ignore')\n",
    "\n",
    "plt.style.use('fivethirtyeight')\n",
    "%matplotlib inline"
   ]
  },
  {
   "cell_type": "markdown",
   "metadata": {},
   "source": [
    "Loading Dataset"
   ]
  },
  {
   "cell_type": "code",
   "execution_count": 2,
   "metadata": {},
   "outputs": [
    {
     "data": {
      "text/html": [
       "<div>\n",
       "<style scoped>\n",
       "    .dataframe tbody tr th:only-of-type {\n",
       "        vertical-align: middle;\n",
       "    }\n",
       "\n",
       "    .dataframe tbody tr th {\n",
       "        vertical-align: top;\n",
       "    }\n",
       "\n",
       "    .dataframe thead th {\n",
       "        text-align: right;\n",
       "    }\n",
       "</style>\n",
       "<table border=\"1\" class=\"dataframe\">\n",
       "  <thead>\n",
       "    <tr style=\"text-align: right;\">\n",
       "      <th></th>\n",
       "      <th>order_id</th>\n",
       "      <th>order_date</th>\n",
       "      <th>sku</th>\n",
       "      <th>color</th>\n",
       "      <th>size</th>\n",
       "      <th>unit_price</th>\n",
       "      <th>quantity</th>\n",
       "      <th>revenue</th>\n",
       "    </tr>\n",
       "  </thead>\n",
       "  <tbody>\n",
       "    <tr>\n",
       "      <th>0</th>\n",
       "      <td>1</td>\n",
       "      <td>2022/6/1 16:05:00</td>\n",
       "      <td>708</td>\n",
       "      <td>Dark Blue</td>\n",
       "      <td>2XL</td>\n",
       "      <td>298</td>\n",
       "      <td>1</td>\n",
       "      <td>298</td>\n",
       "    </tr>\n",
       "    <tr>\n",
       "      <th>1</th>\n",
       "      <td>1</td>\n",
       "      <td>2022/6/1 16:05:00</td>\n",
       "      <td>89</td>\n",
       "      <td>Dark Blue</td>\n",
       "      <td>2XL</td>\n",
       "      <td>258</td>\n",
       "      <td>1</td>\n",
       "      <td>258</td>\n",
       "    </tr>\n",
       "    <tr>\n",
       "      <th>2</th>\n",
       "      <td>2</td>\n",
       "      <td>2022/6/10 17:03:00</td>\n",
       "      <td>bobo</td>\n",
       "      <td>Cream</td>\n",
       "      <td>One Size</td>\n",
       "      <td>228</td>\n",
       "      <td>1</td>\n",
       "      <td>228</td>\n",
       "    </tr>\n",
       "    <tr>\n",
       "      <th>3</th>\n",
       "      <td>3</td>\n",
       "      <td>2022/6/10 19:59:00</td>\n",
       "      <td>799</td>\n",
       "      <td>Dark Blue</td>\n",
       "      <td>XL</td>\n",
       "      <td>264</td>\n",
       "      <td>1</td>\n",
       "      <td>264</td>\n",
       "    </tr>\n",
       "    <tr>\n",
       "      <th>4</th>\n",
       "      <td>4</td>\n",
       "      <td>2022/6/11 11:42:00</td>\n",
       "      <td>799</td>\n",
       "      <td>Dark Blue</td>\n",
       "      <td>M</td>\n",
       "      <td>264</td>\n",
       "      <td>1</td>\n",
       "      <td>264</td>\n",
       "    </tr>\n",
       "  </tbody>\n",
       "</table>\n",
       "</div>"
      ],
      "text/plain": [
       "   order_id          order_date   sku      color      size  unit_price  \\\n",
       "0         1   2022/6/1 16:05:00   708  Dark Blue       2XL         298   \n",
       "1         1   2022/6/1 16:05:00    89  Dark Blue       2XL         258   \n",
       "2         2  2022/6/10 17:03:00  bobo      Cream  One Size         228   \n",
       "3         3  2022/6/10 19:59:00   799  Dark Blue        XL         264   \n",
       "4         4  2022/6/11 11:42:00   799  Dark Blue         M         264   \n",
       "\n",
       "   quantity  revenue  \n",
       "0         1      298  \n",
       "1         1      258  \n",
       "2         1      228  \n",
       "3         1      264  \n",
       "4         1      264  "
      ]
     },
     "execution_count": 2,
     "metadata": {},
     "output_type": "execute_result"
    }
   ],
   "source": [
    "df = pd.read_csv('women_clothing_ecommerce_sales.csv')\n",
    "df.head()"
   ]
  },
  {
   "cell_type": "markdown",
   "metadata": {},
   "source": [
    "Exploratory Data Analysis:dividing our EDA into two types:Visual and Numerical.\n",
    "starting off with the Numerical part:"
   ]
  },
  {
   "cell_type": "code",
   "execution_count": 3,
   "metadata": {},
   "outputs": [
    {
     "data": {
      "text/plain": [
       "(527, 8)"
      ]
     },
     "execution_count": 3,
     "metadata": {},
     "output_type": "execute_result"
    }
   ],
   "source": [
    "df.shape"
   ]
  },
  {
   "cell_type": "code",
   "execution_count": 4,
   "metadata": {},
   "outputs": [
    {
     "data": {
      "text/plain": [
       "Index(['order_id', 'order_date', 'sku', 'color', 'size', 'unit_price',\n",
       "       'quantity', 'revenue'],\n",
       "      dtype='object')"
      ]
     },
     "execution_count": 4,
     "metadata": {},
     "output_type": "execute_result"
    }
   ],
   "source": [
    "df.columns"
   ]
  },
  {
   "cell_type": "code",
   "execution_count": 5,
   "metadata": {},
   "outputs": [
    {
     "data": {
      "text/html": [
       "<div>\n",
       "<style scoped>\n",
       "    .dataframe tbody tr th:only-of-type {\n",
       "        vertical-align: middle;\n",
       "    }\n",
       "\n",
       "    .dataframe tbody tr th {\n",
       "        vertical-align: top;\n",
       "    }\n",
       "\n",
       "    .dataframe thead th {\n",
       "        text-align: right;\n",
       "    }\n",
       "</style>\n",
       "<table border=\"1\" class=\"dataframe\">\n",
       "  <thead>\n",
       "    <tr style=\"text-align: right;\">\n",
       "      <th></th>\n",
       "      <th>order_id</th>\n",
       "      <th>unit_price</th>\n",
       "      <th>quantity</th>\n",
       "      <th>revenue</th>\n",
       "    </tr>\n",
       "  </thead>\n",
       "  <tbody>\n",
       "    <tr>\n",
       "      <th>count</th>\n",
       "      <td>527.000000</td>\n",
       "      <td>527.000000</td>\n",
       "      <td>527.000000</td>\n",
       "      <td>527.000000</td>\n",
       "    </tr>\n",
       "    <tr>\n",
       "      <th>mean</th>\n",
       "      <td>115.313093</td>\n",
       "      <td>274.973435</td>\n",
       "      <td>1.011385</td>\n",
       "      <td>278.024668</td>\n",
       "    </tr>\n",
       "    <tr>\n",
       "      <th>std</th>\n",
       "      <td>73.106716</td>\n",
       "      <td>34.517412</td>\n",
       "      <td>0.106193</td>\n",
       "      <td>44.741095</td>\n",
       "    </tr>\n",
       "    <tr>\n",
       "      <th>min</th>\n",
       "      <td>1.000000</td>\n",
       "      <td>191.000000</td>\n",
       "      <td>1.000000</td>\n",
       "      <td>191.000000</td>\n",
       "    </tr>\n",
       "    <tr>\n",
       "      <th>25%</th>\n",
       "      <td>54.000000</td>\n",
       "      <td>266.000000</td>\n",
       "      <td>1.000000</td>\n",
       "      <td>266.000000</td>\n",
       "    </tr>\n",
       "    <tr>\n",
       "      <th>50%</th>\n",
       "      <td>110.000000</td>\n",
       "      <td>278.000000</td>\n",
       "      <td>1.000000</td>\n",
       "      <td>278.000000</td>\n",
       "    </tr>\n",
       "    <tr>\n",
       "      <th>75%</th>\n",
       "      <td>166.000000</td>\n",
       "      <td>288.000000</td>\n",
       "      <td>1.000000</td>\n",
       "      <td>288.000000</td>\n",
       "    </tr>\n",
       "    <tr>\n",
       "      <th>max</th>\n",
       "      <td>273.000000</td>\n",
       "      <td>899.000000</td>\n",
       "      <td>2.000000</td>\n",
       "      <td>899.000000</td>\n",
       "    </tr>\n",
       "  </tbody>\n",
       "</table>\n",
       "</div>"
      ],
      "text/plain": [
       "         order_id  unit_price    quantity     revenue\n",
       "count  527.000000  527.000000  527.000000  527.000000\n",
       "mean   115.313093  274.973435    1.011385  278.024668\n",
       "std     73.106716   34.517412    0.106193   44.741095\n",
       "min      1.000000  191.000000    1.000000  191.000000\n",
       "25%     54.000000  266.000000    1.000000  266.000000\n",
       "50%    110.000000  278.000000    1.000000  278.000000\n",
       "75%    166.000000  288.000000    1.000000  288.000000\n",
       "max    273.000000  899.000000    2.000000  899.000000"
      ]
     },
     "execution_count": 5,
     "metadata": {},
     "output_type": "execute_result"
    }
   ],
   "source": [
    "df.describe()"
   ]
  },
  {
   "cell_type": "markdown",
   "metadata": {},
   "source": [
    "Dealing with types"
   ]
  },
  {
   "cell_type": "code",
   "execution_count": 6,
   "metadata": {},
   "outputs": [
    {
     "data": {
      "text/plain": [
       "order_id       int64\n",
       "order_date    object\n",
       "sku           object\n",
       "color         object\n",
       "size          object\n",
       "unit_price     int64\n",
       "quantity       int64\n",
       "revenue        int64\n",
       "dtype: object"
      ]
     },
     "execution_count": 6,
     "metadata": {},
     "output_type": "execute_result"
    }
   ],
   "source": [
    "df.dtypes"
   ]
  },
  {
   "cell_type": "code",
   "execution_count": 7,
   "metadata": {},
   "outputs": [],
   "source": [
    "df['order_date'] = pd.to_datetime(df['order_date'])\n",
    "df =df.set_index('order_date')"
   ]
  },
  {
   "cell_type": "markdown",
   "metadata": {},
   "source": [
    "Handle NA values"
   ]
  },
  {
   "cell_type": "code",
   "execution_count": 8,
   "metadata": {},
   "outputs": [
    {
     "data": {
      "text/plain": [
       "order_id       0\n",
       "sku            0\n",
       "color          0\n",
       "size          37\n",
       "unit_price     0\n",
       "quantity       0\n",
       "revenue        0\n",
       "dtype: int64"
      ]
     },
     "execution_count": 8,
     "metadata": {},
     "output_type": "execute_result"
    }
   ],
   "source": [
    "#checking for columns with there respective numbers of empty raw values\n",
    "df.isnull().sum()"
   ]
  },
  {
   "cell_type": "code",
   "execution_count": 9,
   "metadata": {},
   "outputs": [
    {
     "data": {
      "text/plain": [
       "order_id      0\n",
       "sku           0\n",
       "color         0\n",
       "size          0\n",
       "unit_price    0\n",
       "quantity      0\n",
       "revenue       0\n",
       "dtype: int64"
      ]
     },
     "execution_count": 9,
     "metadata": {},
     "output_type": "execute_result"
    }
   ],
   "source": [
    "#drop the na_values raws since they insignificant as compared to our 527 raws\n",
    "df = df.dropna()\n",
    "df.isnull().sum()"
   ]
  },
  {
   "cell_type": "markdown",
   "metadata": {},
   "source": [
    "Drop features that are not required to build our model"
   ]
  },
  {
   "cell_type": "code",
   "execution_count": 10,
   "metadata": {},
   "outputs": [
    {
     "data": {
      "text/html": [
       "<div>\n",
       "<style scoped>\n",
       "    .dataframe tbody tr th:only-of-type {\n",
       "        vertical-align: middle;\n",
       "    }\n",
       "\n",
       "    .dataframe tbody tr th {\n",
       "        vertical-align: top;\n",
       "    }\n",
       "\n",
       "    .dataframe thead th {\n",
       "        text-align: right;\n",
       "    }\n",
       "</style>\n",
       "<table border=\"1\" class=\"dataframe\">\n",
       "  <thead>\n",
       "    <tr style=\"text-align: right;\">\n",
       "      <th></th>\n",
       "      <th>sku</th>\n",
       "      <th>color</th>\n",
       "      <th>size</th>\n",
       "      <th>unit_price</th>\n",
       "      <th>quantity</th>\n",
       "      <th>revenue</th>\n",
       "    </tr>\n",
       "    <tr>\n",
       "      <th>order_date</th>\n",
       "      <th></th>\n",
       "      <th></th>\n",
       "      <th></th>\n",
       "      <th></th>\n",
       "      <th></th>\n",
       "      <th></th>\n",
       "    </tr>\n",
       "  </thead>\n",
       "  <tbody>\n",
       "    <tr>\n",
       "      <th>2022-06-01 16:05:00</th>\n",
       "      <td>708</td>\n",
       "      <td>Dark Blue</td>\n",
       "      <td>2XL</td>\n",
       "      <td>298</td>\n",
       "      <td>1</td>\n",
       "      <td>298</td>\n",
       "    </tr>\n",
       "    <tr>\n",
       "      <th>2022-06-01 16:05:00</th>\n",
       "      <td>89</td>\n",
       "      <td>Dark Blue</td>\n",
       "      <td>2XL</td>\n",
       "      <td>258</td>\n",
       "      <td>1</td>\n",
       "      <td>258</td>\n",
       "    </tr>\n",
       "    <tr>\n",
       "      <th>2022-06-10 17:03:00</th>\n",
       "      <td>bobo</td>\n",
       "      <td>Cream</td>\n",
       "      <td>One Size</td>\n",
       "      <td>228</td>\n",
       "      <td>1</td>\n",
       "      <td>228</td>\n",
       "    </tr>\n",
       "    <tr>\n",
       "      <th>2022-06-10 19:59:00</th>\n",
       "      <td>799</td>\n",
       "      <td>Dark Blue</td>\n",
       "      <td>XL</td>\n",
       "      <td>264</td>\n",
       "      <td>1</td>\n",
       "      <td>264</td>\n",
       "    </tr>\n",
       "    <tr>\n",
       "      <th>2022-06-11 11:42:00</th>\n",
       "      <td>799</td>\n",
       "      <td>Dark Blue</td>\n",
       "      <td>M</td>\n",
       "      <td>264</td>\n",
       "      <td>1</td>\n",
       "      <td>264</td>\n",
       "    </tr>\n",
       "  </tbody>\n",
       "</table>\n",
       "</div>"
      ],
      "text/plain": [
       "                      sku      color      size  unit_price  quantity  revenue\n",
       "order_date                                                                   \n",
       "2022-06-01 16:05:00   708  Dark Blue       2XL         298         1      298\n",
       "2022-06-01 16:05:00    89  Dark Blue       2XL         258         1      258\n",
       "2022-06-10 17:03:00  bobo      Cream  One Size         228         1      228\n",
       "2022-06-10 19:59:00   799  Dark Blue        XL         264         1      264\n",
       "2022-06-11 11:42:00   799  Dark Blue         M         264         1      264"
      ]
     },
     "execution_count": 10,
     "metadata": {},
     "output_type": "execute_result"
    }
   ],
   "source": [
    "df = df.drop(['order_id'],axis='columns')\n",
    "df.head()"
   ]
  },
  {
   "cell_type": "markdown",
   "metadata": {},
   "source": [
    "checking out columns separately\n",
    "Also it makes sense to go feature by feature and check which pitfalls we \n",
    "have in our data and also to understand our numbers better."
   ]
  },
  {
   "cell_type": "markdown",
   "metadata": {},
   "source": [
    "stock keep unit column"
   ]
  },
  {
   "cell_type": "code",
   "execution_count": 11,
   "metadata": {},
   "outputs": [
    {
     "data": {
      "text/plain": [
       "sku\n",
       "1499    2\n",
       "229     2\n",
       "539     2\n",
       "29      1\n",
       "628     1\n",
       "Name: count, dtype: int64"
      ]
     },
     "execution_count": 11,
     "metadata": {},
     "output_type": "execute_result"
    }
   ],
   "source": [
    "df['sku'].value_counts().tail()"
   ]
  },
  {
   "cell_type": "code",
   "execution_count": 12,
   "metadata": {},
   "outputs": [
    {
     "data": {
      "image/png": "[encoded data removed]",
      "text/plain": [
       "<Figure size 1800x600 with 1 Axes>"
      ]
     },
     "metadata": {},
     "output_type": "display_data"
    }
   ],
   "source": [
    "import matplotlib.pyplot as plt\n",
    "import seaborn as sns\n",
    "\n",
    "stock_counts = df['sku'].value_counts().sort_values(ascending=False).iloc[0:15]\n",
    "\n",
    "plt.figure(figsize=(18, 6))\n",
    "sns.barplot(x=stock_counts.index, y=stock_counts.values, palette=sns.color_palette(\"GnBu_d\"))\n",
    "plt.ylabel(\"Counts\")\n",
    "plt.title(\"Which stock codes were used the most?\")\n",
    "plt.xticks(rotation=90);  # Rotate x-axis labels for better readability\n",
    "plt.show()\n"
   ]
  },
  {
   "cell_type": "markdown",
   "metadata": {},
   "source": [
    "Color feature"
   ]
  },
  {
   "cell_type": "code",
   "execution_count": 13,
   "metadata": {},
   "outputs": [
    {
     "data": {
      "text/plain": [
       "color\n",
       "Brown              1\n",
       "Cornflower Blue    1\n",
       "Pink               1\n",
       "Red Orange         1\n",
       "Gray Stripes       1\n",
       "Name: count, dtype: int64"
      ]
     },
     "execution_count": 13,
     "metadata": {},
     "output_type": "execute_result"
    }
   ],
   "source": [
    "df['color'].value_counts().tail()"
   ]
  },
  {
   "cell_type": "code",
   "execution_count": 14,
   "metadata": {},
   "outputs": [
    {
     "data": {
      "image/png": "[encoded data removed]",
      "text/plain": [
       "<Figure size 1800x600 with 1 Axes>"
      ]
     },
     "metadata": {},
     "output_type": "display_data"
    }
   ],
   "source": [
    "\n",
    "color_count = df['color'].value_counts().sort_values(ascending=False).iloc[0:15]\n",
    "\n",
    "plt.figure(figsize=(18, 6))\n",
    "sns.barplot(x=color_count.index, y=color_count.values, palette=sns.color_palette(\"GnBu_d\"))\n",
    "plt.ylabel(\"Counts\")\n",
    "plt.title(\"frequently sold color\")\n",
    "plt.xticks(rotation=90); # Rotate x-axis labels for better readability\n",
    "plt.show()"
   ]
  },
  {
   "cell_type": "markdown",
   "metadata": {},
   "source": [
    "checking out the size feature"
   ]
  },
  {
   "cell_type": "code",
   "execution_count": 15,
   "metadata": {},
   "outputs": [
    {
     "data": {
      "text/plain": [
       "size\n",
       "XL          164\n",
       "M            92\n",
       "L            91\n",
       "One Size     45\n",
       "2XL          43\n",
       "Name: count, dtype: int64"
      ]
     },
     "execution_count": 15,
     "metadata": {},
     "output_type": "execute_result"
    }
   ],
   "source": [
    "df['size'].value_counts().head()"
   ]
  },
  {
   "cell_type": "markdown",
   "metadata": {},
   "source": [
    "dropping the one Size raw since the raw has been repeated looking for the one with the lowest entries"
   ]
  },
  {
   "cell_type": "code",
   "execution_count": 16,
   "metadata": {},
   "outputs": [
    {
     "data": {
      "text/plain": [
       "array(['2XL', 'One Size', 'XL', 'M', '3XL', 'L', '4XL', 'S', 'One SIze'],\n",
       "      dtype=object)"
      ]
     },
     "execution_count": 16,
     "metadata": {},
     "output_type": "execute_result"
    }
   ],
   "source": [
    "df['size'].unique()"
   ]
  },
  {
   "cell_type": "code",
   "execution_count": 17,
   "metadata": {},
   "outputs": [
    {
     "name": "stdout",
     "output_type": "stream",
     "text": [
      "number of raws containing One SIze 5\n"
     ]
    }
   ],
   "source": [
    "count = (df == 'One SIze').sum().sum()\n",
    "print('number of raws containing One SIze',count)"
   ]
  },
  {
   "cell_type": "code",
   "execution_count": 18,
   "metadata": {},
   "outputs": [],
   "source": [
    "#drop one size raw from the column size since it's repetitive\n",
    "df = df[df['size'] != 'One SIze']"
   ]
  },
  {
   "cell_type": "code",
   "execution_count": 19,
   "metadata": {},
   "outputs": [
    {
     "data": {
      "image/png": "[encoded data removed]",
      "text/plain": [
       "<Figure size 1800x600 with 1 Axes>"
      ]
     },
     "metadata": {},
     "output_type": "display_data"
    }
   ],
   "source": [
    "size_counts = df['size'].value_counts().sort_values(ascending=False).iloc[0:15]\n",
    "\n",
    "plt.figure(figsize=(18, 6))\n",
    "sns.barplot(x=size_counts.index, y=size_counts.values, palette=sns.color_palette(\"GnBu_d\"))\n",
    "plt.ylabel(\"Counts\")\n",
    "plt.title(\"frequently sold size?\")\n",
    "plt.xticks(rotation=45)  # Rotate x-axis labels for better readability\n",
    "plt.show()"
   ]
  },
  {
   "cell_type": "markdown",
   "metadata": {},
   "source": [
    "Detecting outliers and removing outliers\n",
    "There are few different methods to detect outliers:std deviation, box plots, using IQR, scatter plot also works in some cases (and this is one of those). Also, detecting outliers using scatter plot is pretty intuitive. You plot your data and remove data points that visually are definitely out of range."
   ]
  },
  {
   "cell_type": "markdown",
   "metadata": {},
   "source": [
    "Let's remove obvious outliers"
   ]
  },
  {
   "cell_type": "code",
   "execution_count": 20,
   "metadata": {},
   "outputs": [
    {
     "data": {
      "text/plain": [
       "count    485.000000\n",
       "mean     280.274227\n",
       "std       45.337634\n",
       "min      191.000000\n",
       "25%      266.000000\n",
       "50%      278.000000\n",
       "75%      288.000000\n",
       "max      899.000000\n",
       "Name: revenue, dtype: float64"
      ]
     },
     "execution_count": 20,
     "metadata": {},
     "output_type": "execute_result"
    }
   ],
   "source": [
    "df.revenue.describe()"
   ]
  },
  {
   "cell_type": "markdown",
   "metadata": {},
   "source": [
    "Using standard deviation to removwe outliers"
   ]
  },
  {
   "cell_type": "code",
   "execution_count": 21,
   "metadata": {},
   "outputs": [
    {
     "data": {
      "text/plain": [
       "Text(0, 0.5, 'Frequency')"
      ]
     },
     "execution_count": 21,
     "metadata": {},
     "output_type": "execute_result"
    },
    {
     "data": {
      "image/png": "[encoded data removed]",
      "text/plain": [
       "<Figure size 640x480 with 1 Axes>"
      ]
     },
     "metadata": {},
     "output_type": "display_data"
    }
   ],
   "source": [
    "sns.histplot(df['revenue'], kde=True, color='skyblue')\n",
    "plt.title('Distribution of Revenue')\n",
    "plt.xlabel('Revenue')\n",
    "plt.ylabel('Frequency')"
   ]
  },
  {
   "cell_type": "code",
   "execution_count": 22,
   "metadata": {},
   "outputs": [
    {
     "data": {
      "text/plain": [
       "416.2871299240652"
      ]
     },
     "execution_count": 22,
     "metadata": {},
     "output_type": "execute_result"
    }
   ],
   "source": [
    "upper_limit = df.revenue.mean() + 3*df.revenue.std()\n",
    "upper_limit"
   ]
  },
  {
   "cell_type": "code",
   "execution_count": 23,
   "metadata": {},
   "outputs": [
    {
     "data": {
      "text/plain": [
       "144.2613236841822"
      ]
     },
     "execution_count": 23,
     "metadata": {},
     "output_type": "execute_result"
    }
   ],
   "source": [
    "lower_limit = df.revenue.mean() -3*df.revenue.std()\n",
    "lower_limit"
   ]
  },
  {
   "cell_type": "code",
   "execution_count": 24,
   "metadata": {},
   "outputs": [
    {
     "data": {
      "text/html": [
       "<div>\n",
       "<style scoped>\n",
       "    .dataframe tbody tr th:only-of-type {\n",
       "        vertical-align: middle;\n",
       "    }\n",
       "\n",
       "    .dataframe tbody tr th {\n",
       "        vertical-align: top;\n",
       "    }\n",
       "\n",
       "    .dataframe thead th {\n",
       "        text-align: right;\n",
       "    }\n",
       "</style>\n",
       "<table border=\"1\" class=\"dataframe\">\n",
       "  <thead>\n",
       "    <tr style=\"text-align: right;\">\n",
       "      <th></th>\n",
       "      <th>sku</th>\n",
       "      <th>color</th>\n",
       "      <th>size</th>\n",
       "      <th>unit_price</th>\n",
       "      <th>quantity</th>\n",
       "      <th>revenue</th>\n",
       "    </tr>\n",
       "    <tr>\n",
       "      <th>order_date</th>\n",
       "      <th></th>\n",
       "      <th></th>\n",
       "      <th></th>\n",
       "      <th></th>\n",
       "      <th></th>\n",
       "      <th></th>\n",
       "    </tr>\n",
       "  </thead>\n",
       "  <tbody>\n",
       "    <tr>\n",
       "      <th>2022-07-11 17:19:00</th>\n",
       "      <td>799</td>\n",
       "      <td>Dark Blue</td>\n",
       "      <td>M</td>\n",
       "      <td>288</td>\n",
       "      <td>2</td>\n",
       "      <td>576</td>\n",
       "    </tr>\n",
       "    <tr>\n",
       "      <th>2022-07-06 17:14:00</th>\n",
       "      <td>9699</td>\n",
       "      <td>Black</td>\n",
       "      <td>One Size</td>\n",
       "      <td>288</td>\n",
       "      <td>2</td>\n",
       "      <td>576</td>\n",
       "    </tr>\n",
       "    <tr>\n",
       "      <th>2022-08-25 13:02:00</th>\n",
       "      <td>799</td>\n",
       "      <td>Dark Blue</td>\n",
       "      <td>XL</td>\n",
       "      <td>288</td>\n",
       "      <td>2</td>\n",
       "      <td>576</td>\n",
       "    </tr>\n",
       "    <tr>\n",
       "      <th>2022-08-05 19:33:00</th>\n",
       "      <td>708</td>\n",
       "      <td>Dark Blue</td>\n",
       "      <td>4XL</td>\n",
       "      <td>899</td>\n",
       "      <td>1</td>\n",
       "      <td>899</td>\n",
       "    </tr>\n",
       "    <tr>\n",
       "      <th>2022-09-10 02:31:00</th>\n",
       "      <td>799</td>\n",
       "      <td>Dark Blue</td>\n",
       "      <td>XL</td>\n",
       "      <td>265</td>\n",
       "      <td>2</td>\n",
       "      <td>530</td>\n",
       "    </tr>\n",
       "    <tr>\n",
       "      <th>2022-09-19 10:05:00</th>\n",
       "      <td>799</td>\n",
       "      <td>Dark Blue</td>\n",
       "      <td>L</td>\n",
       "      <td>288</td>\n",
       "      <td>2</td>\n",
       "      <td>576</td>\n",
       "    </tr>\n",
       "  </tbody>\n",
       "</table>\n",
       "</div>"
      ],
      "text/plain": [
       "                      sku      color      size  unit_price  quantity  revenue\n",
       "order_date                                                                   \n",
       "2022-07-11 17:19:00   799  Dark Blue         M         288         2      576\n",
       "2022-07-06 17:14:00  9699      Black  One Size         288         2      576\n",
       "2022-08-25 13:02:00   799  Dark Blue        XL         288         2      576\n",
       "2022-08-05 19:33:00   708  Dark Blue       4XL         899         1      899\n",
       "2022-09-10 02:31:00   799  Dark Blue        XL         265         2      530\n",
       "2022-09-19 10:05:00   799  Dark Blue         L         288         2      576"
      ]
     },
     "execution_count": 24,
     "metadata": {},
     "output_type": "execute_result"
    }
   ],
   "source": [
    "df[(df.revenue>upper_limit) | (df.revenue<lower_limit)]"
   ]
  },
  {
   "cell_type": "code",
   "execution_count": 25,
   "metadata": {},
   "outputs": [
    {
     "data": {
      "text/html": [
       "<div>\n",
       "<style scoped>\n",
       "    .dataframe tbody tr th:only-of-type {\n",
       "        vertical-align: middle;\n",
       "    }\n",
       "\n",
       "    .dataframe tbody tr th {\n",
       "        vertical-align: top;\n",
       "    }\n",
       "\n",
       "    .dataframe thead th {\n",
       "        text-align: right;\n",
       "    }\n",
       "</style>\n",
       "<table border=\"1\" class=\"dataframe\">\n",
       "  <thead>\n",
       "    <tr style=\"text-align: right;\">\n",
       "      <th></th>\n",
       "      <th>sku</th>\n",
       "      <th>color</th>\n",
       "      <th>size</th>\n",
       "      <th>unit_price</th>\n",
       "      <th>quantity</th>\n",
       "      <th>revenue</th>\n",
       "    </tr>\n",
       "    <tr>\n",
       "      <th>order_date</th>\n",
       "      <th></th>\n",
       "      <th></th>\n",
       "      <th></th>\n",
       "      <th></th>\n",
       "      <th></th>\n",
       "      <th></th>\n",
       "    </tr>\n",
       "  </thead>\n",
       "  <tbody>\n",
       "    <tr>\n",
       "      <th>2022-06-01 16:05:00</th>\n",
       "      <td>708</td>\n",
       "      <td>Dark Blue</td>\n",
       "      <td>2XL</td>\n",
       "      <td>298</td>\n",
       "      <td>1</td>\n",
       "      <td>298</td>\n",
       "    </tr>\n",
       "    <tr>\n",
       "      <th>2022-06-01 16:05:00</th>\n",
       "      <td>89</td>\n",
       "      <td>Dark Blue</td>\n",
       "      <td>2XL</td>\n",
       "      <td>258</td>\n",
       "      <td>1</td>\n",
       "      <td>258</td>\n",
       "    </tr>\n",
       "    <tr>\n",
       "      <th>2022-06-10 17:03:00</th>\n",
       "      <td>bobo</td>\n",
       "      <td>Cream</td>\n",
       "      <td>One Size</td>\n",
       "      <td>228</td>\n",
       "      <td>1</td>\n",
       "      <td>228</td>\n",
       "    </tr>\n",
       "    <tr>\n",
       "      <th>2022-06-10 19:59:00</th>\n",
       "      <td>799</td>\n",
       "      <td>Dark Blue</td>\n",
       "      <td>XL</td>\n",
       "      <td>264</td>\n",
       "      <td>1</td>\n",
       "      <td>264</td>\n",
       "    </tr>\n",
       "    <tr>\n",
       "      <th>2022-06-11 11:42:00</th>\n",
       "      <td>799</td>\n",
       "      <td>Dark Blue</td>\n",
       "      <td>M</td>\n",
       "      <td>264</td>\n",
       "      <td>1</td>\n",
       "      <td>264</td>\n",
       "    </tr>\n",
       "  </tbody>\n",
       "</table>\n",
       "</div>"
      ],
      "text/plain": [
       "                      sku      color      size  unit_price  quantity  revenue\n",
       "order_date                                                                   \n",
       "2022-06-01 16:05:00   708  Dark Blue       2XL         298         1      298\n",
       "2022-06-01 16:05:00    89  Dark Blue       2XL         258         1      258\n",
       "2022-06-10 17:03:00  bobo      Cream  One Size         228         1      228\n",
       "2022-06-10 19:59:00   799  Dark Blue        XL         264         1      264\n",
       "2022-06-11 11:42:00   799  Dark Blue         M         264         1      264"
      ]
     },
     "execution_count": 25,
     "metadata": {},
     "output_type": "execute_result"
    }
   ],
   "source": [
    "df1 = df[(df.revenue<upper_limit) & (df.revenue>lower_limit)]\n",
    "df1.head()"
   ]
  },
  {
   "cell_type": "code",
   "execution_count": 26,
   "metadata": {},
   "outputs": [
    {
     "data": {
      "text/plain": [
       "<matplotlib.collections.PathCollection at 0x21fcd048350>"
      ]
     },
     "execution_count": 26,
     "metadata": {},
     "output_type": "execute_result"
    },
    {
     "data": {
      "image/png": "[encoded data removed]",
      "text/plain": [
       "<Figure size 1800x600 with 1 Axes>"
      ]
     },
     "metadata": {},
     "output_type": "display_data"
    }
   ],
   "source": [
    "plt.figure(figsize=(18,6))\n",
    "plt.scatter(x=df1 .index, y=df1 ['revenue'])"
   ]
  },
  {
   "cell_type": "code",
   "execution_count": 27,
   "metadata": {},
   "outputs": [
    {
     "data": {
      "text/plain": [
       "(array([19144., 19158., 19174., 19188., 19205., 19219., 19236., 19250.,\n",
       "        19266.]),\n",
       " [Text(19144.0, 0, '2022-06-01'),\n",
       "  Text(19158.0, 0, '2022-06-15'),\n",
       "  Text(19174.0, 0, '2022-07-01'),\n",
       "  Text(19188.0, 0, '2022-07-15'),\n",
       "  Text(19205.0, 0, '2022-08-01'),\n",
       "  Text(19219.0, 0, '2022-08-15'),\n",
       "  Text(19236.0, 0, '2022-09-01'),\n",
       "  Text(19250.0, 0, '2022-09-15'),\n",
       "  Text(19266.0, 0, '2022-10-01')])"
      ]
     },
     "execution_count": 27,
     "metadata": {},
     "output_type": "execute_result"
    },
    {
     "data": {
      "image/png": "[encoded data removed]",
      "text/plain": [
       "<Figure size 1800x600 with 1 Axes>"
      ]
     },
     "metadata": {},
     "output_type": "display_data"
    }
   ],
   "source": [
    "df2= df1[df1['revenue'] < 325]\n",
    "plt.figure(figsize=(18,6))\n",
    "plt.scatter(x=df2.index, y=df2['revenue'])\n",
    "plt.xticks(rotation=90)"
   ]
  },
  {
   "cell_type": "markdown",
   "metadata": {},
   "source": [
    "After removing obvious outliers we still see some values that are out of normal distribution. To understand better the distribution of our data let's check out different percentiles of our numeric features."
   ]
  },
  {
   "cell_type": "code",
   "execution_count": 28,
   "metadata": {},
   "outputs": [
    {
     "name": "stdout",
     "output_type": "stream",
     "text": [
      "0.050    1.0\n",
      "0.950    1.0\n",
      "0.980    1.0\n",
      "0.990    1.0\n",
      "0.999    1.0\n",
      "Name: quantity, dtype: float64 0.050    238.0\n",
      "0.950    298.0\n",
      "0.980    315.0\n",
      "0.990    318.0\n",
      "0.999    318.0\n",
      "Name: unit_price, dtype: float64 0.050    238.0\n",
      "0.950    298.0\n",
      "0.980    315.0\n",
      "0.990    318.0\n",
      "0.999    318.0\n",
      "Name: revenue, dtype: float64\n"
     ]
    }
   ],
   "source": [
    "df2[['revenue', 'unit_price', 'quantity']] = df2[['revenue', 'unit_price', 'quantity']].apply(pd.to_numeric, errors='coerce')\n",
    "\n",
    "# Drop rows with NaN values in any of the specified columns\n",
    "df2 = df2.dropna(subset=['revenue', 'unit_price', 'quantity'])\n",
    "\n",
    "# calculating quantiles again for each column separately\n",
    "quantiles_revenue = df2['revenue'].quantile([0.05, 0.95, 0.98, 0.99, 0.999])\n",
    "quantiles_unit_price = df2['unit_price'].quantile([0.05, 0.95, 0.98, 0.99, 0.999])\n",
    "quantiles_quantity = df2['quantity'].quantile([0.05, 0.95, 0.98, 0.99, 0.999])\n",
    "print(quantiles_quantity,quantiles_unit_price,quantiles_revenue)"
   ]
  },
  {
   "cell_type": "markdown",
   "metadata": {},
   "source": [
    "We can see that if we remove top 2% of our data points we will get rid of absolute outliers and will have more balaced dataset."
   ]
  },
  {
   "cell_type": "code",
   "execution_count": 29,
   "metadata": {},
   "outputs": [
    {
     "data": {
      "text/plain": [
       "(array([19144., 19158., 19174., 19188., 19205., 19219., 19236., 19250.,\n",
       "        19266.]),\n",
       " [Text(19144.0, 0, '2022-06-01'),\n",
       "  Text(19158.0, 0, '2022-06-15'),\n",
       "  Text(19174.0, 0, '2022-07-01'),\n",
       "  Text(19188.0, 0, '2022-07-15'),\n",
       "  Text(19205.0, 0, '2022-08-01'),\n",
       "  Text(19219.0, 0, '2022-08-15'),\n",
       "  Text(19236.0, 0, '2022-09-01'),\n",
       "  Text(19250.0, 0, '2022-09-15'),\n",
       "  Text(19266.0, 0, '2022-10-01')])"
      ]
     },
     "execution_count": 29,
     "metadata": {},
     "output_type": "execute_result"
    },
    {
     "data": {
      "image/png": "[encoded data removed]",
      "text/plain": [
       "<Figure size 640x480 with 1 Axes>"
      ]
     },
     "metadata": {},
     "output_type": "display_data"
    }
   ],
   "source": [
    "#use the 98th percentile revenue value\n",
    "df3 = df2[df2['revenue'] < 315 ]\n",
    "plt.scatter(x=df3.index, y=df3['revenue'])\n",
    "plt.xticks(rotation=90)"
   ]
  },
  {
   "cell_type": "code",
   "execution_count": 30,
   "metadata": {},
   "outputs": [
    {
     "data": {
      "text/html": [
       "<div>\n",
       "<style scoped>\n",
       "    .dataframe tbody tr th:only-of-type {\n",
       "        vertical-align: middle;\n",
       "    }\n",
       "\n",
       "    .dataframe tbody tr th {\n",
       "        vertical-align: top;\n",
       "    }\n",
       "\n",
       "    .dataframe thead th {\n",
       "        text-align: right;\n",
       "    }\n",
       "</style>\n",
       "<table border=\"1\" class=\"dataframe\">\n",
       "  <thead>\n",
       "    <tr style=\"text-align: right;\">\n",
       "      <th></th>\n",
       "      <th>unit_price</th>\n",
       "      <th>quantity</th>\n",
       "      <th>revenue</th>\n",
       "    </tr>\n",
       "  </thead>\n",
       "  <tbody>\n",
       "    <tr>\n",
       "      <th>count</th>\n",
       "      <td>464.000000</td>\n",
       "      <td>464.0</td>\n",
       "      <td>464.000000</td>\n",
       "    </tr>\n",
       "    <tr>\n",
       "      <th>mean</th>\n",
       "      <td>274.547414</td>\n",
       "      <td>1.0</td>\n",
       "      <td>274.547414</td>\n",
       "    </tr>\n",
       "    <tr>\n",
       "      <th>std</th>\n",
       "      <td>18.362263</td>\n",
       "      <td>0.0</td>\n",
       "      <td>18.362263</td>\n",
       "    </tr>\n",
       "    <tr>\n",
       "      <th>min</th>\n",
       "      <td>191.000000</td>\n",
       "      <td>1.0</td>\n",
       "      <td>191.000000</td>\n",
       "    </tr>\n",
       "    <tr>\n",
       "      <th>25%</th>\n",
       "      <td>266.000000</td>\n",
       "      <td>1.0</td>\n",
       "      <td>266.000000</td>\n",
       "    </tr>\n",
       "    <tr>\n",
       "      <th>50%</th>\n",
       "      <td>278.000000</td>\n",
       "      <td>1.0</td>\n",
       "      <td>278.000000</td>\n",
       "    </tr>\n",
       "    <tr>\n",
       "      <th>75%</th>\n",
       "      <td>288.000000</td>\n",
       "      <td>1.0</td>\n",
       "      <td>288.000000</td>\n",
       "    </tr>\n",
       "    <tr>\n",
       "      <th>max</th>\n",
       "      <td>298.000000</td>\n",
       "      <td>1.0</td>\n",
       "      <td>298.000000</td>\n",
       "    </tr>\n",
       "  </tbody>\n",
       "</table>\n",
       "</div>"
      ],
      "text/plain": [
       "       unit_price  quantity     revenue\n",
       "count  464.000000     464.0  464.000000\n",
       "mean   274.547414       1.0  274.547414\n",
       "std     18.362263       0.0   18.362263\n",
       "min    191.000000       1.0  191.000000\n",
       "25%    266.000000       1.0  266.000000\n",
       "50%    278.000000       1.0  278.000000\n",
       "75%    288.000000       1.0  288.000000\n",
       "max    298.000000       1.0  298.000000"
      ]
     },
     "execution_count": 30,
     "metadata": {},
     "output_type": "execute_result"
    }
   ],
   "source": [
    "df3.describe()"
   ]
  },
  {
   "cell_type": "markdown",
   "metadata": {},
   "source": [
    "our data is almost ready for modelling.We are done with clean up,we removed outliers and invalid data records"
   ]
  },
  {
   "cell_type": "markdown",
   "metadata": {},
   "source": [
    "Visual representation of distribution of numeric features"
   ]
  },
  {
   "cell_type": "markdown",
   "metadata": {},
   "source": [
    "unit price"
   ]
  },
  {
   "cell_type": "code",
   "execution_count": 31,
   "metadata": {},
   "outputs": [
    {
     "data": {
      "text/plain": [
       "<Axes: ylabel='Count'>"
      ]
     },
     "execution_count": 31,
     "metadata": {},
     "output_type": "execute_result"
    },
    {
     "data": {
      "image/png": "[encoded data removed]",
      "text/plain": [
       "<Figure size 1200x400 with 1 Axes>"
      ]
     },
     "metadata": {},
     "output_type": "display_data"
    }
   ],
   "source": [
    "plt.figure(figsize=(12,4))\n",
    "sns.histplot(df3[df3['unit_price'] < 315]['unit_price'].values, kde=True, bins=10)"
   ]
  },
  {
   "cell_type": "markdown",
   "metadata": {},
   "source": [
    "majority of clothes that were bought were the ones with the price tag below 270"
   ]
  },
  {
   "cell_type": "markdown",
   "metadata": {},
   "source": [
    "quantity"
   ]
  },
  {
   "cell_type": "code",
   "execution_count": 32,
   "metadata": {},
   "outputs": [
    {
     "data": {
      "text/plain": [
       "<Axes: xlabel='quantity', ylabel='Count'>"
      ]
     },
     "execution_count": 32,
     "metadata": {},
     "output_type": "execute_result"
    },
    {
     "data": {
      "image/png": "[encoded data removed]",
      "text/plain": [
       "<Figure size 600x200 with 1 Axes>"
      ]
     },
     "metadata": {},
     "output_type": "display_data"
    }
   ],
   "source": [
    "plt.figure(figsize=(6,2))\n",
    "sns.histplot(df3[df3['quantity'] <= 2]['quantity'], kde=True, bins=10, color='red')"
   ]
  },
  {
   "cell_type": "markdown",
   "metadata": {},
   "source": [
    "from the above histogram majority clothes were bought in quantity of 1"
   ]
  },
  {
   "cell_type": "markdown",
   "metadata": {},
   "source": [
    "revenue"
   ]
  },
  {
   "cell_type": "code",
   "execution_count": 33,
   "metadata": {},
   "outputs": [
    {
     "data": {
      "text/plain": [
       "<Axes: xlabel='revenue', ylabel='Count'>"
      ]
     },
     "execution_count": 33,
     "metadata": {},
     "output_type": "execute_result"
    },
    {
     "data": {
      "image/png": "[encoded data removed]",
      "text/plain": [
       "<Figure size 1200x400 with 1 Axes>"
      ]
     },
     "metadata": {},
     "output_type": "display_data"
    }
   ],
   "source": [
    "plt.figure(figsize=(12,4))\n",
    "sns.histplot(df3[df3['revenue'] < 318]['revenue'], kde=True, bins=10, color='purple')"
   ]
  },
  {
   "cell_type": "markdown",
   "metadata": {},
   "source": [
    "From these histograms we can understand that majority of revenue generated per order were in range of 180 to 270"
   ]
  },
  {
   "cell_type": "markdown",
   "metadata": {},
   "source": [
    "analysing revenue "
   ]
  },
  {
   "cell_type": "code",
   "execution_count": 34,
   "metadata": {},
   "outputs": [
    {
     "data": {
      "text/html": [
       "<div>\n",
       "<style scoped>\n",
       "    .dataframe tbody tr th:only-of-type {\n",
       "        vertical-align: middle;\n",
       "    }\n",
       "\n",
       "    .dataframe tbody tr th {\n",
       "        vertical-align: top;\n",
       "    }\n",
       "\n",
       "    .dataframe thead th {\n",
       "        text-align: right;\n",
       "    }\n",
       "</style>\n",
       "<table border=\"1\" class=\"dataframe\">\n",
       "  <thead>\n",
       "    <tr style=\"text-align: right;\">\n",
       "      <th></th>\n",
       "      <th>revenue</th>\n",
       "    </tr>\n",
       "    <tr>\n",
       "      <th>order_date</th>\n",
       "      <th></th>\n",
       "    </tr>\n",
       "  </thead>\n",
       "  <tbody>\n",
       "    <tr>\n",
       "      <th>2022-06-01 16:05:00</th>\n",
       "      <td>298</td>\n",
       "    </tr>\n",
       "    <tr>\n",
       "      <th>2022-06-01 16:05:00</th>\n",
       "      <td>258</td>\n",
       "    </tr>\n",
       "    <tr>\n",
       "      <th>2022-06-10 17:03:00</th>\n",
       "      <td>228</td>\n",
       "    </tr>\n",
       "    <tr>\n",
       "      <th>2022-06-10 19:59:00</th>\n",
       "      <td>264</td>\n",
       "    </tr>\n",
       "    <tr>\n",
       "      <th>2022-06-11 11:42:00</th>\n",
       "      <td>264</td>\n",
       "    </tr>\n",
       "    <tr>\n",
       "      <th>2022-06-11 14:46:00</th>\n",
       "      <td>264</td>\n",
       "    </tr>\n",
       "    <tr>\n",
       "      <th>2022-06-11 19:23:00</th>\n",
       "      <td>264</td>\n",
       "    </tr>\n",
       "    <tr>\n",
       "      <th>2022-06-11 19:54:00</th>\n",
       "      <td>278</td>\n",
       "    </tr>\n",
       "    <tr>\n",
       "      <th>2022-06-11 21:09:00</th>\n",
       "      <td>278</td>\n",
       "    </tr>\n",
       "    <tr>\n",
       "      <th>2022-06-12 17:32:00</th>\n",
       "      <td>278</td>\n",
       "    </tr>\n",
       "  </tbody>\n",
       "</table>\n",
       "</div>"
      ],
      "text/plain": [
       "                     revenue\n",
       "order_date                  \n",
       "2022-06-01 16:05:00      298\n",
       "2022-06-01 16:05:00      258\n",
       "2022-06-10 17:03:00      228\n",
       "2022-06-10 19:59:00      264\n",
       "2022-06-11 11:42:00      264\n",
       "2022-06-11 14:46:00      264\n",
       "2022-06-11 19:23:00      264\n",
       "2022-06-11 19:54:00      278\n",
       "2022-06-11 21:09:00      278\n",
       "2022-06-12 17:32:00      278"
      ]
     },
     "execution_count": 34,
     "metadata": {},
     "output_type": "execute_result"
    }
   ],
   "source": [
    "df_ts = df3[['revenue']]\n",
    "df_ts.head(10)"
   ]
  },
  {
   "cell_type": "markdown",
   "metadata": {},
   "source": [
    "As we can see every order_date has it's own timestamp (definitely based on time the order was made). We can resample time data by, for example weeks, and try see if there is any patterns in our revenue data"
   ]
  },
  {
   "cell_type": "code",
   "execution_count": 35,
   "metadata": {},
   "outputs": [
    {
     "data": {
      "text/plain": [
       "<Axes: xlabel='order_date'>"
      ]
     },
     "execution_count": 35,
     "metadata": {},
     "output_type": "execute_result"
    },
    {
     "data": {
      "text/plain": [
       "<Figure size 2000x600 with 0 Axes>"
      ]
     },
     "metadata": {},
     "output_type": "display_data"
    },
    {
     "data": {
      "image/png": "[encoded data removed]",
      "text/plain": [
       "<Figure size 640x480 with 1 Axes>"
      ]
     },
     "metadata": {},
     "output_type": "display_data"
    }
   ],
   "source": [
    "plt.figure(figsize=(20,6))\n",
    "df_resample = df_ts.resample('W').sum()\n",
    "df_resample.plot()"
   ]
  },
  {
   "cell_type": "markdown",
   "metadata": {},
   "source": [
    "There are no anomalies in our revenue data from our weekly sales"
   ]
  },
  {
   "cell_type": "code",
   "execution_count": 36,
   "metadata": {},
   "outputs": [
    {
     "data": {
      "text/html": [
       "<div>\n",
       "<style scoped>\n",
       "    .dataframe tbody tr th:only-of-type {\n",
       "        vertical-align: middle;\n",
       "    }\n",
       "\n",
       "    .dataframe tbody tr th {\n",
       "        vertical-align: top;\n",
       "    }\n",
       "\n",
       "    .dataframe thead th {\n",
       "        text-align: right;\n",
       "    }\n",
       "</style>\n",
       "<table border=\"1\" class=\"dataframe\">\n",
       "  <thead>\n",
       "    <tr style=\"text-align: right;\">\n",
       "      <th></th>\n",
       "      <th>revenue</th>\n",
       "    </tr>\n",
       "    <tr>\n",
       "      <th>order_date</th>\n",
       "      <th></th>\n",
       "    </tr>\n",
       "  </thead>\n",
       "  <tbody>\n",
       "    <tr>\n",
       "      <th>2022-08-07</th>\n",
       "      <td>5117</td>\n",
       "    </tr>\n",
       "    <tr>\n",
       "      <th>2022-08-14</th>\n",
       "      <td>9036</td>\n",
       "    </tr>\n",
       "    <tr>\n",
       "      <th>2022-08-21</th>\n",
       "      <td>8669</td>\n",
       "    </tr>\n",
       "    <tr>\n",
       "      <th>2022-08-28</th>\n",
       "      <td>7849</td>\n",
       "    </tr>\n",
       "    <tr>\n",
       "      <th>2022-09-04</th>\n",
       "      <td>10840</td>\n",
       "    </tr>\n",
       "    <tr>\n",
       "      <th>2022-09-11</th>\n",
       "      <td>14528</td>\n",
       "    </tr>\n",
       "    <tr>\n",
       "      <th>2022-09-18</th>\n",
       "      <td>7831</td>\n",
       "    </tr>\n",
       "    <tr>\n",
       "      <th>2022-09-25</th>\n",
       "      <td>6418</td>\n",
       "    </tr>\n",
       "  </tbody>\n",
       "</table>\n",
       "</div>"
      ],
      "text/plain": [
       "            revenue\n",
       "order_date         \n",
       "2022-08-07     5117\n",
       "2022-08-14     9036\n",
       "2022-08-21     8669\n",
       "2022-08-28     7849\n",
       "2022-09-04    10840\n",
       "2022-09-11    14528\n",
       "2022-09-18     7831\n",
       "2022-09-25     6418"
      ]
     },
     "execution_count": 36,
     "metadata": {},
     "output_type": "execute_result"
    }
   ],
   "source": [
    "df_resample['8-2022':'9-2022']"
   ]
  },
  {
   "cell_type": "markdown",
   "metadata": {},
   "source": [
    "Preparing data for modeling and feature creation"
   ]
  },
  {
   "cell_type": "code",
   "execution_count": 37,
   "metadata": {},
   "outputs": [
    {
     "data": {
      "text/html": [
       "<div>\n",
       "<style scoped>\n",
       "    .dataframe tbody tr th:only-of-type {\n",
       "        vertical-align: middle;\n",
       "    }\n",
       "\n",
       "    .dataframe tbody tr th {\n",
       "        vertical-align: top;\n",
       "    }\n",
       "\n",
       "    .dataframe thead th {\n",
       "        text-align: right;\n",
       "    }\n",
       "</style>\n",
       "<table border=\"1\" class=\"dataframe\">\n",
       "  <thead>\n",
       "    <tr style=\"text-align: right;\">\n",
       "      <th></th>\n",
       "      <th>unit_price</th>\n",
       "      <th>quantity</th>\n",
       "      <th>revenue</th>\n",
       "    </tr>\n",
       "  </thead>\n",
       "  <tbody>\n",
       "    <tr>\n",
       "      <th>count</th>\n",
       "      <td>484.000000</td>\n",
       "      <td>484.000000</td>\n",
       "      <td>484.000000</td>\n",
       "    </tr>\n",
       "    <tr>\n",
       "      <th>mean</th>\n",
       "      <td>275.673554</td>\n",
       "      <td>1.012397</td>\n",
       "      <td>278.995868</td>\n",
       "    </tr>\n",
       "    <tr>\n",
       "      <th>std</th>\n",
       "      <td>19.713918</td>\n",
       "      <td>0.110763</td>\n",
       "      <td>35.574259</td>\n",
       "    </tr>\n",
       "    <tr>\n",
       "      <th>min</th>\n",
       "      <td>191.000000</td>\n",
       "      <td>1.000000</td>\n",
       "      <td>191.000000</td>\n",
       "    </tr>\n",
       "    <tr>\n",
       "      <th>25%</th>\n",
       "      <td>266.000000</td>\n",
       "      <td>1.000000</td>\n",
       "      <td>266.000000</td>\n",
       "    </tr>\n",
       "    <tr>\n",
       "      <th>50%</th>\n",
       "      <td>278.000000</td>\n",
       "      <td>1.000000</td>\n",
       "      <td>278.000000</td>\n",
       "    </tr>\n",
       "    <tr>\n",
       "      <th>75%</th>\n",
       "      <td>288.000000</td>\n",
       "      <td>1.000000</td>\n",
       "      <td>288.000000</td>\n",
       "    </tr>\n",
       "    <tr>\n",
       "      <th>max</th>\n",
       "      <td>318.000000</td>\n",
       "      <td>2.000000</td>\n",
       "      <td>576.000000</td>\n",
       "    </tr>\n",
       "  </tbody>\n",
       "</table>\n",
       "</div>"
      ],
      "text/plain": [
       "       unit_price    quantity     revenue\n",
       "count  484.000000  484.000000  484.000000\n",
       "mean   275.673554    1.012397  278.995868\n",
       "std     19.713918    0.110763   35.574259\n",
       "min    191.000000    1.000000  191.000000\n",
       "25%    266.000000    1.000000  266.000000\n",
       "50%    278.000000    1.000000  278.000000\n",
       "75%    288.000000    1.000000  288.000000\n",
       "max    318.000000    2.000000  576.000000"
      ]
     },
     "execution_count": 37,
     "metadata": {},
     "output_type": "execute_result"
    }
   ],
   "source": [
    "df_clean = df[df['unit_price'] < 320 ]\n",
    "df_clean.describe()"
   ]
  },
  {
   "cell_type": "code",
   "execution_count": 38,
   "metadata": {},
   "outputs": [
    {
     "data": {
      "text/plain": [
       "DatetimeIndex(['2022-06-01 16:05:00', '2022-06-01 16:05:00',\n",
       "               '2022-06-10 17:03:00', '2022-06-10 19:59:00',\n",
       "               '2022-06-11 11:42:00', '2022-06-11 14:46:00',\n",
       "               '2022-06-11 19:23:00', '2022-06-11 19:54:00',\n",
       "               '2022-06-11 21:09:00', '2022-06-12 17:32:00',\n",
       "               ...\n",
       "               '2022-09-09 21:17:00', '2022-09-09 23:59:00',\n",
       "               '2022-09-09 03:29:00', '2022-09-09 05:55:00',\n",
       "               '2022-09-09 06:10:00', '2022-09-09 06:27:00',\n",
       "               '2022-09-09 07:18:00', '2022-09-09 07:22:00',\n",
       "               '2022-09-09 08:25:00', '2022-09-09 09:47:00'],\n",
       "              dtype='datetime64[ns]', name='order_date', length=484, freq=None)"
      ]
     },
     "execution_count": 38,
     "metadata": {},
     "output_type": "execute_result"
    }
   ],
   "source": [
    "df_clean.index"
   ]
  },
  {
   "cell_type": "code",
   "execution_count": 39,
   "metadata": {},
   "outputs": [
    {
     "data": {
      "text/html": [
       "<div>\n",
       "<style scoped>\n",
       "    .dataframe tbody tr th:only-of-type {\n",
       "        vertical-align: middle;\n",
       "    }\n",
       "\n",
       "    .dataframe tbody tr th {\n",
       "        vertical-align: top;\n",
       "    }\n",
       "\n",
       "    .dataframe thead th {\n",
       "        text-align: right;\n",
       "    }\n",
       "</style>\n",
       "<table border=\"1\" class=\"dataframe\">\n",
       "  <thead>\n",
       "    <tr style=\"text-align: right;\">\n",
       "      <th></th>\n",
       "      <th>order_date</th>\n",
       "      <th>sku</th>\n",
       "      <th>color</th>\n",
       "      <th>size</th>\n",
       "      <th>unit_price</th>\n",
       "      <th>quantity</th>\n",
       "      <th>revenue</th>\n",
       "    </tr>\n",
       "  </thead>\n",
       "  <tbody>\n",
       "    <tr>\n",
       "      <th>0</th>\n",
       "      <td>2022-06-01 16:05:00</td>\n",
       "      <td>708</td>\n",
       "      <td>Dark Blue</td>\n",
       "      <td>2XL</td>\n",
       "      <td>298</td>\n",
       "      <td>1</td>\n",
       "      <td>298</td>\n",
       "    </tr>\n",
       "    <tr>\n",
       "      <th>1</th>\n",
       "      <td>2022-06-01 16:05:00</td>\n",
       "      <td>89</td>\n",
       "      <td>Dark Blue</td>\n",
       "      <td>2XL</td>\n",
       "      <td>258</td>\n",
       "      <td>1</td>\n",
       "      <td>258</td>\n",
       "    </tr>\n",
       "    <tr>\n",
       "      <th>2</th>\n",
       "      <td>2022-06-10 17:03:00</td>\n",
       "      <td>bobo</td>\n",
       "      <td>Cream</td>\n",
       "      <td>One Size</td>\n",
       "      <td>228</td>\n",
       "      <td>1</td>\n",
       "      <td>228</td>\n",
       "    </tr>\n",
       "    <tr>\n",
       "      <th>3</th>\n",
       "      <td>2022-06-10 19:59:00</td>\n",
       "      <td>799</td>\n",
       "      <td>Dark Blue</td>\n",
       "      <td>XL</td>\n",
       "      <td>264</td>\n",
       "      <td>1</td>\n",
       "      <td>264</td>\n",
       "    </tr>\n",
       "    <tr>\n",
       "      <th>4</th>\n",
       "      <td>2022-06-11 11:42:00</td>\n",
       "      <td>799</td>\n",
       "      <td>Dark Blue</td>\n",
       "      <td>M</td>\n",
       "      <td>264</td>\n",
       "      <td>1</td>\n",
       "      <td>264</td>\n",
       "    </tr>\n",
       "  </tbody>\n",
       "</table>\n",
       "</div>"
      ],
      "text/plain": [
       "           order_date   sku      color      size  unit_price  quantity  \\\n",
       "0 2022-06-01 16:05:00   708  Dark Blue       2XL         298         1   \n",
       "1 2022-06-01 16:05:00    89  Dark Blue       2XL         258         1   \n",
       "2 2022-06-10 17:03:00  bobo      Cream  One Size         228         1   \n",
       "3 2022-06-10 19:59:00   799  Dark Blue        XL         264         1   \n",
       "4 2022-06-11 11:42:00   799  Dark Blue         M         264         1   \n",
       "\n",
       "   revenue  \n",
       "0      298  \n",
       "1      258  \n",
       "2      228  \n",
       "3      264  \n",
       "4      264  "
      ]
     },
     "execution_count": 39,
     "metadata": {},
     "output_type": "execute_result"
    }
   ],
   "source": [
    "#resetting index\n",
    "df_clean= df_clean.reset_index()\n",
    "df_clean.head()"
   ]
  },
  {
   "cell_type": "code",
   "execution_count": 40,
   "metadata": {},
   "outputs": [
    {
     "data": {
      "text/plain": [
       "Index(['order_date', 'sku', 'color', 'size', 'unit_price', 'quantity',\n",
       "       'revenue'],\n",
       "      dtype='object')"
      ]
     },
     "execution_count": 40,
     "metadata": {},
     "output_type": "execute_result"
    }
   ],
   "source": [
    "df_clean.columns "
   ]
  },
  {
   "cell_type": "markdown",
   "metadata": {},
   "source": [
    "Bucketizing Quantity and UnitPrice features"
   ]
  },
  {
   "cell_type": "markdown",
   "metadata": {},
   "source": [
    "\n",
    "Based on the EDA done previously we can group these features into 2 buckets for Quantity and 7 for UnitePrice using pandas .cut() method.\n",
    "[(0, 100), (100, 200), (200, 300), (300, 400)]"
   ]
  },
  {
   "cell_type": "code",
   "execution_count": 41,
   "metadata": {},
   "outputs": [
    {
     "data": {
      "text/html": [
       "<div>\n",
       "<style scoped>\n",
       "    .dataframe tbody tr th:only-of-type {\n",
       "        vertical-align: middle;\n",
       "    }\n",
       "\n",
       "    .dataframe tbody tr th {\n",
       "        vertical-align: top;\n",
       "    }\n",
       "\n",
       "    .dataframe thead th {\n",
       "        text-align: right;\n",
       "    }\n",
       "</style>\n",
       "<table border=\"1\" class=\"dataframe\">\n",
       "  <thead>\n",
       "    <tr style=\"text-align: right;\">\n",
       "      <th></th>\n",
       "      <th>order_date</th>\n",
       "      <th>sku</th>\n",
       "      <th>color</th>\n",
       "      <th>size</th>\n",
       "      <th>unit_price</th>\n",
       "      <th>quantity</th>\n",
       "      <th>revenue</th>\n",
       "      <th>QuantityRange</th>\n",
       "      <th>PriceRange</th>\n",
       "    </tr>\n",
       "  </thead>\n",
       "  <tbody>\n",
       "    <tr>\n",
       "      <th>0</th>\n",
       "      <td>2022-06-01 16:05:00</td>\n",
       "      <td>708</td>\n",
       "      <td>Dark Blue</td>\n",
       "      <td>2XL</td>\n",
       "      <td>298</td>\n",
       "      <td>1</td>\n",
       "      <td>298</td>\n",
       "      <td>(0, 1]</td>\n",
       "      <td>(250, 300]</td>\n",
       "    </tr>\n",
       "    <tr>\n",
       "      <th>1</th>\n",
       "      <td>2022-06-01 16:05:00</td>\n",
       "      <td>89</td>\n",
       "      <td>Dark Blue</td>\n",
       "      <td>2XL</td>\n",
       "      <td>258</td>\n",
       "      <td>1</td>\n",
       "      <td>258</td>\n",
       "      <td>(0, 1]</td>\n",
       "      <td>(250, 300]</td>\n",
       "    </tr>\n",
       "    <tr>\n",
       "      <th>2</th>\n",
       "      <td>2022-06-10 17:03:00</td>\n",
       "      <td>bobo</td>\n",
       "      <td>Cream</td>\n",
       "      <td>One Size</td>\n",
       "      <td>228</td>\n",
       "      <td>1</td>\n",
       "      <td>228</td>\n",
       "      <td>(0, 1]</td>\n",
       "      <td>(200, 250]</td>\n",
       "    </tr>\n",
       "    <tr>\n",
       "      <th>3</th>\n",
       "      <td>2022-06-10 19:59:00</td>\n",
       "      <td>799</td>\n",
       "      <td>Dark Blue</td>\n",
       "      <td>XL</td>\n",
       "      <td>264</td>\n",
       "      <td>1</td>\n",
       "      <td>264</td>\n",
       "      <td>(0, 1]</td>\n",
       "      <td>(250, 300]</td>\n",
       "    </tr>\n",
       "    <tr>\n",
       "      <th>4</th>\n",
       "      <td>2022-06-11 11:42:00</td>\n",
       "      <td>799</td>\n",
       "      <td>Dark Blue</td>\n",
       "      <td>M</td>\n",
       "      <td>264</td>\n",
       "      <td>1</td>\n",
       "      <td>264</td>\n",
       "      <td>(0, 1]</td>\n",
       "      <td>(250, 300]</td>\n",
       "    </tr>\n",
       "  </tbody>\n",
       "</table>\n",
       "</div>"
      ],
      "text/plain": [
       "           order_date   sku      color      size  unit_price  quantity  \\\n",
       "0 2022-06-01 16:05:00   708  Dark Blue       2XL         298         1   \n",
       "1 2022-06-01 16:05:00    89  Dark Blue       2XL         258         1   \n",
       "2 2022-06-10 17:03:00  bobo      Cream  One Size         228         1   \n",
       "3 2022-06-10 19:59:00   799  Dark Blue        XL         264         1   \n",
       "4 2022-06-11 11:42:00   799  Dark Blue         M         264         1   \n",
       "\n",
       "   revenue QuantityRange  PriceRange  \n",
       "0      298        (0, 1]  (250, 300]  \n",
       "1      258        (0, 1]  (250, 300]  \n",
       "2      228        (0, 1]  (200, 250]  \n",
       "3      264        (0, 1]  (250, 300]  \n",
       "4      264        (0, 1]  (250, 300]  "
      ]
     },
     "execution_count": 41,
     "metadata": {},
     "output_type": "execute_result"
    }
   ],
   "source": [
    "bins_q = pd.IntervalIndex.from_tuples([(0, 1), (1, 2)])\n",
    "df_clean['QuantityRange'] = pd.cut(df_clean['quantity'], bins=bins_q)\n",
    "bins_p = pd.IntervalIndex.from_tuples([(0, 50), (50, 100), (100, 150), (150, 200), (200, 250), (250, 300), (300, 350)])\n",
    "df_clean['PriceRange'] = pd.cut(df_clean['unit_price'], bins=bins_p)\n",
    "df_clean.head()"
   ]
  },
  {
   "cell_type": "markdown",
   "metadata": {},
   "source": [
    "Extracting and bucketizing dates"
   ]
  },
  {
   "cell_type": "code",
   "execution_count": 42,
   "metadata": {},
   "outputs": [
    {
     "data": {
      "text/html": [
       "<div>\n",
       "<style scoped>\n",
       "    .dataframe tbody tr th:only-of-type {\n",
       "        vertical-align: middle;\n",
       "    }\n",
       "\n",
       "    .dataframe tbody tr th {\n",
       "        vertical-align: top;\n",
       "    }\n",
       "\n",
       "    .dataframe thead th {\n",
       "        text-align: right;\n",
       "    }\n",
       "</style>\n",
       "<table border=\"1\" class=\"dataframe\">\n",
       "  <thead>\n",
       "    <tr style=\"text-align: right;\">\n",
       "      <th></th>\n",
       "      <th>order_date</th>\n",
       "      <th>sku</th>\n",
       "      <th>color</th>\n",
       "      <th>size</th>\n",
       "      <th>unit_price</th>\n",
       "      <th>quantity</th>\n",
       "      <th>revenue</th>\n",
       "      <th>QuantityRange</th>\n",
       "      <th>PriceRange</th>\n",
       "      <th>Month</th>\n",
       "    </tr>\n",
       "  </thead>\n",
       "  <tbody>\n",
       "    <tr>\n",
       "      <th>0</th>\n",
       "      <td>2022-06-01 16:05:00</td>\n",
       "      <td>708</td>\n",
       "      <td>Dark Blue</td>\n",
       "      <td>2XL</td>\n",
       "      <td>298</td>\n",
       "      <td>1</td>\n",
       "      <td>298</td>\n",
       "      <td>(0, 1]</td>\n",
       "      <td>(250, 300]</td>\n",
       "      <td>6</td>\n",
       "    </tr>\n",
       "    <tr>\n",
       "      <th>1</th>\n",
       "      <td>2022-06-01 16:05:00</td>\n",
       "      <td>89</td>\n",
       "      <td>Dark Blue</td>\n",
       "      <td>2XL</td>\n",
       "      <td>258</td>\n",
       "      <td>1</td>\n",
       "      <td>258</td>\n",
       "      <td>(0, 1]</td>\n",
       "      <td>(250, 300]</td>\n",
       "      <td>6</td>\n",
       "    </tr>\n",
       "    <tr>\n",
       "      <th>2</th>\n",
       "      <td>2022-06-10 17:03:00</td>\n",
       "      <td>bobo</td>\n",
       "      <td>Cream</td>\n",
       "      <td>One Size</td>\n",
       "      <td>228</td>\n",
       "      <td>1</td>\n",
       "      <td>228</td>\n",
       "      <td>(0, 1]</td>\n",
       "      <td>(200, 250]</td>\n",
       "      <td>6</td>\n",
       "    </tr>\n",
       "    <tr>\n",
       "      <th>3</th>\n",
       "      <td>2022-06-10 19:59:00</td>\n",
       "      <td>799</td>\n",
       "      <td>Dark Blue</td>\n",
       "      <td>XL</td>\n",
       "      <td>264</td>\n",
       "      <td>1</td>\n",
       "      <td>264</td>\n",
       "      <td>(0, 1]</td>\n",
       "      <td>(250, 300]</td>\n",
       "      <td>6</td>\n",
       "    </tr>\n",
       "    <tr>\n",
       "      <th>4</th>\n",
       "      <td>2022-06-11 11:42:00</td>\n",
       "      <td>799</td>\n",
       "      <td>Dark Blue</td>\n",
       "      <td>M</td>\n",
       "      <td>264</td>\n",
       "      <td>1</td>\n",
       "      <td>264</td>\n",
       "      <td>(0, 1]</td>\n",
       "      <td>(250, 300]</td>\n",
       "      <td>6</td>\n",
       "    </tr>\n",
       "  </tbody>\n",
       "</table>\n",
       "</div>"
      ],
      "text/plain": [
       "           order_date   sku      color      size  unit_price  quantity  \\\n",
       "0 2022-06-01 16:05:00   708  Dark Blue       2XL         298         1   \n",
       "1 2022-06-01 16:05:00    89  Dark Blue       2XL         258         1   \n",
       "2 2022-06-10 17:03:00  bobo      Cream  One Size         228         1   \n",
       "3 2022-06-10 19:59:00   799  Dark Blue        XL         264         1   \n",
       "4 2022-06-11 11:42:00   799  Dark Blue         M         264         1   \n",
       "\n",
       "   revenue QuantityRange  PriceRange  Month  \n",
       "0      298        (0, 1]  (250, 300]      6  \n",
       "1      258        (0, 1]  (250, 300]      6  \n",
       "2      228        (0, 1]  (200, 250]      6  \n",
       "3      264        (0, 1]  (250, 300]      6  \n",
       "4      264        (0, 1]  (250, 300]      6  "
      ]
     },
     "execution_count": 42,
     "metadata": {},
     "output_type": "execute_result"
    }
   ],
   "source": [
    "df_clean['Month'] = df_clean['order_date'].dt.month\n",
    "df_clean.head()"
   ]
  },
  {
   "cell_type": "code",
   "execution_count": 43,
   "metadata": {},
   "outputs": [
    {
     "data": {
      "text/html": [
       "<div>\n",
       "<style scoped>\n",
       "    .dataframe tbody tr th:only-of-type {\n",
       "        vertical-align: middle;\n",
       "    }\n",
       "\n",
       "    .dataframe tbody tr th {\n",
       "        vertical-align: top;\n",
       "    }\n",
       "\n",
       "    .dataframe thead th {\n",
       "        text-align: right;\n",
       "    }\n",
       "</style>\n",
       "<table border=\"1\" class=\"dataframe\">\n",
       "  <thead>\n",
       "    <tr style=\"text-align: right;\">\n",
       "      <th></th>\n",
       "      <th>order_date</th>\n",
       "      <th>sku</th>\n",
       "      <th>color</th>\n",
       "      <th>size</th>\n",
       "      <th>unit_price</th>\n",
       "      <th>quantity</th>\n",
       "      <th>revenue</th>\n",
       "      <th>QuantityRange</th>\n",
       "      <th>PriceRange</th>\n",
       "      <th>Month</th>\n",
       "      <th>DateRange</th>\n",
       "    </tr>\n",
       "  </thead>\n",
       "  <tbody>\n",
       "    <tr>\n",
       "      <th>479</th>\n",
       "      <td>2022-09-09 06:27:00</td>\n",
       "      <td>799</td>\n",
       "      <td>Dark Blue</td>\n",
       "      <td>M</td>\n",
       "      <td>265</td>\n",
       "      <td>1</td>\n",
       "      <td>265</td>\n",
       "      <td>(0, 1]</td>\n",
       "      <td>(250, 300]</td>\n",
       "      <td>9</td>\n",
       "      <td>(6, 9]</td>\n",
       "    </tr>\n",
       "    <tr>\n",
       "      <th>480</th>\n",
       "      <td>2022-09-09 07:18:00</td>\n",
       "      <td>708</td>\n",
       "      <td>Dark Blue</td>\n",
       "      <td>4XL</td>\n",
       "      <td>278</td>\n",
       "      <td>1</td>\n",
       "      <td>278</td>\n",
       "      <td>(0, 1]</td>\n",
       "      <td>(250, 300]</td>\n",
       "      <td>9</td>\n",
       "      <td>(6, 9]</td>\n",
       "    </tr>\n",
       "    <tr>\n",
       "      <th>481</th>\n",
       "      <td>2022-09-09 07:22:00</td>\n",
       "      <td>799</td>\n",
       "      <td>Dark Blue</td>\n",
       "      <td>M</td>\n",
       "      <td>265</td>\n",
       "      <td>1</td>\n",
       "      <td>265</td>\n",
       "      <td>(0, 1]</td>\n",
       "      <td>(250, 300]</td>\n",
       "      <td>9</td>\n",
       "      <td>(6, 9]</td>\n",
       "    </tr>\n",
       "    <tr>\n",
       "      <th>482</th>\n",
       "      <td>2022-09-09 08:25:00</td>\n",
       "      <td>799</td>\n",
       "      <td>Dark Blue</td>\n",
       "      <td>L</td>\n",
       "      <td>265</td>\n",
       "      <td>1</td>\n",
       "      <td>265</td>\n",
       "      <td>(0, 1]</td>\n",
       "      <td>(250, 300]</td>\n",
       "      <td>9</td>\n",
       "      <td>(6, 9]</td>\n",
       "    </tr>\n",
       "    <tr>\n",
       "      <th>483</th>\n",
       "      <td>2022-09-09 09:47:00</td>\n",
       "      <td>799</td>\n",
       "      <td>Dark Blue</td>\n",
       "      <td>XL</td>\n",
       "      <td>265</td>\n",
       "      <td>1</td>\n",
       "      <td>265</td>\n",
       "      <td>(0, 1]</td>\n",
       "      <td>(250, 300]</td>\n",
       "      <td>9</td>\n",
       "      <td>(6, 9]</td>\n",
       "    </tr>\n",
       "  </tbody>\n",
       "</table>\n",
       "</div>"
      ],
      "text/plain": [
       "             order_date  sku      color size  unit_price  quantity  revenue  \\\n",
       "479 2022-09-09 06:27:00  799  Dark Blue    M         265         1      265   \n",
       "480 2022-09-09 07:18:00  708  Dark Blue  4XL         278         1      278   \n",
       "481 2022-09-09 07:22:00  799  Dark Blue    M         265         1      265   \n",
       "482 2022-09-09 08:25:00  799  Dark Blue    L         265         1      265   \n",
       "483 2022-09-09 09:47:00  799  Dark Blue   XL         265         1      265   \n",
       "\n",
       "    QuantityRange  PriceRange  Month DateRange  \n",
       "479        (0, 1]  (250, 300]      9    (6, 9]  \n",
       "480        (0, 1]  (250, 300]      9    (6, 9]  \n",
       "481        (0, 1]  (250, 300]      9    (6, 9]  \n",
       "482        (0, 1]  (250, 300]      9    (6, 9]  \n",
       "483        (0, 1]  (250, 300]      9    (6, 9]  "
      ]
     },
     "execution_count": 43,
     "metadata": {},
     "output_type": "execute_result"
    }
   ],
   "source": [
    "bins_d = pd.IntervalIndex.from_tuples([(0,3),(3,6),(6,9),(9,12)])\n",
    "df_clean['DateRange'] = pd.cut(df_clean['Month'], bins=bins_d, labels=['q1','q2','q3','q4'])\n",
    "df_clean.tail()"
   ]
  },
  {
   "cell_type": "code",
   "execution_count": 44,
   "metadata": {},
   "outputs": [
    {
     "data": {
      "text/html": [
       "<div>\n",
       "<style scoped>\n",
       "    .dataframe tbody tr th:only-of-type {\n",
       "        vertical-align: middle;\n",
       "    }\n",
       "\n",
       "    .dataframe tbody tr th {\n",
       "        vertical-align: top;\n",
       "    }\n",
       "\n",
       "    .dataframe thead th {\n",
       "        text-align: right;\n",
       "    }\n",
       "</style>\n",
       "<table border=\"1\" class=\"dataframe\">\n",
       "  <thead>\n",
       "    <tr style=\"text-align: right;\">\n",
       "      <th></th>\n",
       "      <th>color</th>\n",
       "      <th>size</th>\n",
       "      <th>quantity</th>\n",
       "      <th>revenue</th>\n",
       "      <th>QuantityRange</th>\n",
       "      <th>PriceRange</th>\n",
       "      <th>Month</th>\n",
       "      <th>DateRange</th>\n",
       "    </tr>\n",
       "  </thead>\n",
       "  <tbody>\n",
       "    <tr>\n",
       "      <th>0</th>\n",
       "      <td>Dark Blue</td>\n",
       "      <td>2XL</td>\n",
       "      <td>1</td>\n",
       "      <td>298</td>\n",
       "      <td>(0, 1]</td>\n",
       "      <td>(250, 300]</td>\n",
       "      <td>6</td>\n",
       "      <td>(3, 6]</td>\n",
       "    </tr>\n",
       "    <tr>\n",
       "      <th>1</th>\n",
       "      <td>Dark Blue</td>\n",
       "      <td>2XL</td>\n",
       "      <td>1</td>\n",
       "      <td>258</td>\n",
       "      <td>(0, 1]</td>\n",
       "      <td>(250, 300]</td>\n",
       "      <td>6</td>\n",
       "      <td>(3, 6]</td>\n",
       "    </tr>\n",
       "    <tr>\n",
       "      <th>2</th>\n",
       "      <td>Cream</td>\n",
       "      <td>One Size</td>\n",
       "      <td>1</td>\n",
       "      <td>228</td>\n",
       "      <td>(0, 1]</td>\n",
       "      <td>(200, 250]</td>\n",
       "      <td>6</td>\n",
       "      <td>(3, 6]</td>\n",
       "    </tr>\n",
       "    <tr>\n",
       "      <th>3</th>\n",
       "      <td>Dark Blue</td>\n",
       "      <td>XL</td>\n",
       "      <td>1</td>\n",
       "      <td>264</td>\n",
       "      <td>(0, 1]</td>\n",
       "      <td>(250, 300]</td>\n",
       "      <td>6</td>\n",
       "      <td>(3, 6]</td>\n",
       "    </tr>\n",
       "    <tr>\n",
       "      <th>4</th>\n",
       "      <td>Dark Blue</td>\n",
       "      <td>M</td>\n",
       "      <td>1</td>\n",
       "      <td>264</td>\n",
       "      <td>(0, 1]</td>\n",
       "      <td>(250, 300]</td>\n",
       "      <td>6</td>\n",
       "      <td>(3, 6]</td>\n",
       "    </tr>\n",
       "  </tbody>\n",
       "</table>\n",
       "</div>"
      ],
      "text/plain": [
       "       color      size  quantity  revenue QuantityRange  PriceRange  Month  \\\n",
       "0  Dark Blue       2XL         1      298        (0, 1]  (250, 300]      6   \n",
       "1  Dark Blue       2XL         1      258        (0, 1]  (250, 300]      6   \n",
       "2      Cream  One Size         1      228        (0, 1]  (200, 250]      6   \n",
       "3  Dark Blue        XL         1      264        (0, 1]  (250, 300]      6   \n",
       "4  Dark Blue         M         1      264        (0, 1]  (250, 300]      6   \n",
       "\n",
       "  DateRange  \n",
       "0    (3, 6]  \n",
       "1    (3, 6]  \n",
       "2    (3, 6]  \n",
       "3    (3, 6]  \n",
       "4    (3, 6]  "
      ]
     },
     "execution_count": 44,
     "metadata": {},
     "output_type": "execute_result"
    }
   ],
   "source": [
    "#droping \n",
    "df_clean2=df_clean.drop(['sku','order_date','unit_price'],axis='columns')\n",
    "df_clean2.head()"
   ]
  },
  {
   "cell_type": "markdown",
   "metadata": {},
   "source": [
    "Building a model"
   ]
  },
  {
   "cell_type": "code",
   "execution_count": 45,
   "metadata": {},
   "outputs": [
    {
     "data": {
      "text/html": [
       "<div>\n",
       "<style scoped>\n",
       "    .dataframe tbody tr th:only-of-type {\n",
       "        vertical-align: middle;\n",
       "    }\n",
       "\n",
       "    .dataframe tbody tr th {\n",
       "        vertical-align: top;\n",
       "    }\n",
       "\n",
       "    .dataframe thead th {\n",
       "        text-align: right;\n",
       "    }\n",
       "</style>\n",
       "<table border=\"1\" class=\"dataframe\">\n",
       "  <thead>\n",
       "    <tr style=\"text-align: right;\">\n",
       "      <th></th>\n",
       "      <th>revenue</th>\n",
       "      <th>QuantityRange</th>\n",
       "      <th>PriceRange</th>\n",
       "      <th>DateRange</th>\n",
       "      <th>size</th>\n",
       "      <th>color</th>\n",
       "    </tr>\n",
       "  </thead>\n",
       "  <tbody>\n",
       "    <tr>\n",
       "      <th>0</th>\n",
       "      <td>298</td>\n",
       "      <td>(0, 1]</td>\n",
       "      <td>(250, 300]</td>\n",
       "      <td>(3, 6]</td>\n",
       "      <td>2XL</td>\n",
       "      <td>Dark Blue</td>\n",
       "    </tr>\n",
       "    <tr>\n",
       "      <th>1</th>\n",
       "      <td>258</td>\n",
       "      <td>(0, 1]</td>\n",
       "      <td>(250, 300]</td>\n",
       "      <td>(3, 6]</td>\n",
       "      <td>2XL</td>\n",
       "      <td>Dark Blue</td>\n",
       "    </tr>\n",
       "    <tr>\n",
       "      <th>2</th>\n",
       "      <td>228</td>\n",
       "      <td>(0, 1]</td>\n",
       "      <td>(200, 250]</td>\n",
       "      <td>(3, 6]</td>\n",
       "      <td>One Size</td>\n",
       "      <td>Cream</td>\n",
       "    </tr>\n",
       "    <tr>\n",
       "      <th>3</th>\n",
       "      <td>264</td>\n",
       "      <td>(0, 1]</td>\n",
       "      <td>(250, 300]</td>\n",
       "      <td>(3, 6]</td>\n",
       "      <td>XL</td>\n",
       "      <td>Dark Blue</td>\n",
       "    </tr>\n",
       "    <tr>\n",
       "      <th>4</th>\n",
       "      <td>264</td>\n",
       "      <td>(0, 1]</td>\n",
       "      <td>(250, 300]</td>\n",
       "      <td>(3, 6]</td>\n",
       "      <td>M</td>\n",
       "      <td>Dark Blue</td>\n",
       "    </tr>\n",
       "  </tbody>\n",
       "</table>\n",
       "</div>"
      ],
      "text/plain": [
       "   revenue QuantityRange  PriceRange DateRange      size      color\n",
       "0      298        (0, 1]  (250, 300]    (3, 6]       2XL  Dark Blue\n",
       "1      258        (0, 1]  (250, 300]    (3, 6]       2XL  Dark Blue\n",
       "2      228        (0, 1]  (200, 250]    (3, 6]  One Size      Cream\n",
       "3      264        (0, 1]  (250, 300]    (3, 6]        XL  Dark Blue\n",
       "4      264        (0, 1]  (250, 300]    (3, 6]         M  Dark Blue"
      ]
     },
     "execution_count": 45,
     "metadata": {},
     "output_type": "execute_result"
    }
   ],
   "source": [
    "df_clean3 = df_clean2[['revenue','QuantityRange','PriceRange','DateRange','size','color']]\n",
    "df_clean3.head()"
   ]
  },
  {
   "cell_type": "code",
   "execution_count": 46,
   "metadata": {},
   "outputs": [
    {
     "data": {
      "text/html": [
       "<div>\n",
       "<style scoped>\n",
       "    .dataframe tbody tr th:only-of-type {\n",
       "        vertical-align: middle;\n",
       "    }\n",
       "\n",
       "    .dataframe tbody tr th {\n",
       "        vertical-align: top;\n",
       "    }\n",
       "\n",
       "    .dataframe thead th {\n",
       "        text-align: right;\n",
       "    }\n",
       "</style>\n",
       "<table border=\"1\" class=\"dataframe\">\n",
       "  <thead>\n",
       "    <tr style=\"text-align: right;\">\n",
       "      <th></th>\n",
       "      <th>revenue</th>\n",
       "      <th>size</th>\n",
       "      <th>color</th>\n",
       "      <th>qr_(0, 1]</th>\n",
       "      <th>qr_(1, 2]</th>\n",
       "      <th>pr_(0, 50]</th>\n",
       "      <th>pr_(50, 100]</th>\n",
       "      <th>pr_(100, 150]</th>\n",
       "      <th>pr_(150, 200]</th>\n",
       "      <th>pr_(200, 250]</th>\n",
       "      <th>pr_(250, 300]</th>\n",
       "      <th>pr_(300, 350]</th>\n",
       "      <th>dr_(0, 3]</th>\n",
       "      <th>dr_(3, 6]</th>\n",
       "      <th>dr_(6, 9]</th>\n",
       "      <th>dr_(9, 12]</th>\n",
       "    </tr>\n",
       "  </thead>\n",
       "  <tbody>\n",
       "    <tr>\n",
       "      <th>0</th>\n",
       "      <td>298</td>\n",
       "      <td>2XL</td>\n",
       "      <td>Dark Blue</td>\n",
       "      <td>1</td>\n",
       "      <td>0</td>\n",
       "      <td>0</td>\n",
       "      <td>0</td>\n",
       "      <td>0</td>\n",
       "      <td>0</td>\n",
       "      <td>0</td>\n",
       "      <td>1</td>\n",
       "      <td>0</td>\n",
       "      <td>0</td>\n",
       "      <td>1</td>\n",
       "      <td>0</td>\n",
       "      <td>0</td>\n",
       "    </tr>\n",
       "    <tr>\n",
       "      <th>1</th>\n",
       "      <td>258</td>\n",
       "      <td>2XL</td>\n",
       "      <td>Dark Blue</td>\n",
       "      <td>1</td>\n",
       "      <td>0</td>\n",
       "      <td>0</td>\n",
       "      <td>0</td>\n",
       "      <td>0</td>\n",
       "      <td>0</td>\n",
       "      <td>0</td>\n",
       "      <td>1</td>\n",
       "      <td>0</td>\n",
       "      <td>0</td>\n",
       "      <td>1</td>\n",
       "      <td>0</td>\n",
       "      <td>0</td>\n",
       "    </tr>\n",
       "    <tr>\n",
       "      <th>2</th>\n",
       "      <td>228</td>\n",
       "      <td>One Size</td>\n",
       "      <td>Cream</td>\n",
       "      <td>1</td>\n",
       "      <td>0</td>\n",
       "      <td>0</td>\n",
       "      <td>0</td>\n",
       "      <td>0</td>\n",
       "      <td>0</td>\n",
       "      <td>1</td>\n",
       "      <td>0</td>\n",
       "      <td>0</td>\n",
       "      <td>0</td>\n",
       "      <td>1</td>\n",
       "      <td>0</td>\n",
       "      <td>0</td>\n",
       "    </tr>\n",
       "    <tr>\n",
       "      <th>3</th>\n",
       "      <td>264</td>\n",
       "      <td>XL</td>\n",
       "      <td>Dark Blue</td>\n",
       "      <td>1</td>\n",
       "      <td>0</td>\n",
       "      <td>0</td>\n",
       "      <td>0</td>\n",
       "      <td>0</td>\n",
       "      <td>0</td>\n",
       "      <td>0</td>\n",
       "      <td>1</td>\n",
       "      <td>0</td>\n",
       "      <td>0</td>\n",
       "      <td>1</td>\n",
       "      <td>0</td>\n",
       "      <td>0</td>\n",
       "    </tr>\n",
       "    <tr>\n",
       "      <th>4</th>\n",
       "      <td>264</td>\n",
       "      <td>M</td>\n",
       "      <td>Dark Blue</td>\n",
       "      <td>1</td>\n",
       "      <td>0</td>\n",
       "      <td>0</td>\n",
       "      <td>0</td>\n",
       "      <td>0</td>\n",
       "      <td>0</td>\n",
       "      <td>0</td>\n",
       "      <td>1</td>\n",
       "      <td>0</td>\n",
       "      <td>0</td>\n",
       "      <td>1</td>\n",
       "      <td>0</td>\n",
       "      <td>0</td>\n",
       "    </tr>\n",
       "  </tbody>\n",
       "</table>\n",
       "</div>"
      ],
      "text/plain": [
       "   revenue      size      color  qr_(0, 1]  qr_(1, 2]  pr_(0, 50]  \\\n",
       "0      298       2XL  Dark Blue          1          0           0   \n",
       "1      258       2XL  Dark Blue          1          0           0   \n",
       "2      228  One Size      Cream          1          0           0   \n",
       "3      264        XL  Dark Blue          1          0           0   \n",
       "4      264         M  Dark Blue          1          0           0   \n",
       "\n",
       "   pr_(50, 100]  pr_(100, 150]  pr_(150, 200]  pr_(200, 250]  pr_(250, 300]  \\\n",
       "0             0              0              0              0              1   \n",
       "1             0              0              0              0              1   \n",
       "2             0              0              0              1              0   \n",
       "3             0              0              0              0              1   \n",
       "4             0              0              0              0              1   \n",
       "\n",
       "   pr_(300, 350]  dr_(0, 3]  dr_(3, 6]  dr_(6, 9]  dr_(9, 12]  \n",
       "0              0          0          1          0           0  \n",
       "1              0          0          1          0           0  \n",
       "2              0          0          1          0           0  \n",
       "3              0          0          1          0           0  \n",
       "4              0          0          1          0           0  "
      ]
     },
     "execution_count": 46,
     "metadata": {},
     "output_type": "execute_result"
    }
   ],
   "source": [
    "df_data = df_clean3.copy()\n",
    "df_data = pd.get_dummies(df_data, columns=['QuantityRange'], prefix='qr')\n",
    "df_data = pd.get_dummies(df_data, columns=['PriceRange'], prefix='pr')\n",
    "df_data = pd.get_dummies(df_data, columns=['DateRange'], prefix='dr')\n",
    "df_data = df_data.replace({False:0,True:1})\n",
    "df_data.head()"
   ]
  },
  {
   "cell_type": "markdown",
   "metadata": {},
   "source": [
    "one hot encoding for color and size feature"
   ]
  },
  {
   "cell_type": "code",
   "execution_count": 61,
   "metadata": {},
   "outputs": [
    {
     "data": {
      "text/html": [
       "<div>\n",
       "<style scoped>\n",
       "    .dataframe tbody tr th:only-of-type {\n",
       "        vertical-align: middle;\n",
       "    }\n",
       "\n",
       "    .dataframe tbody tr th {\n",
       "        vertical-align: top;\n",
       "    }\n",
       "\n",
       "    .dataframe thead th {\n",
       "        text-align: right;\n",
       "    }\n",
       "</style>\n",
       "<table border=\"1\" class=\"dataframe\">\n",
       "  <thead>\n",
       "    <tr style=\"text-align: right;\">\n",
       "      <th></th>\n",
       "      <th>revenue</th>\n",
       "      <th>size</th>\n",
       "      <th>color</th>\n",
       "      <th>qr_(0, 1]</th>\n",
       "      <th>qr_(1, 2]</th>\n",
       "      <th>pr_(0, 50]</th>\n",
       "      <th>pr_(50, 100]</th>\n",
       "      <th>pr_(100, 150]</th>\n",
       "      <th>pr_(150, 200]</th>\n",
       "      <th>pr_(200, 250]</th>\n",
       "      <th>...</th>\n",
       "      <th>dr_(6, 9]</th>\n",
       "      <th>dr_(9, 12]</th>\n",
       "      <th>2XL</th>\n",
       "      <th>3XL</th>\n",
       "      <th>4XL</th>\n",
       "      <th>L</th>\n",
       "      <th>M</th>\n",
       "      <th>One Size</th>\n",
       "      <th>S</th>\n",
       "      <th>XL</th>\n",
       "    </tr>\n",
       "  </thead>\n",
       "  <tbody>\n",
       "    <tr>\n",
       "      <th>0</th>\n",
       "      <td>298</td>\n",
       "      <td>2XL</td>\n",
       "      <td>Dark Blue</td>\n",
       "      <td>1</td>\n",
       "      <td>0</td>\n",
       "      <td>0</td>\n",
       "      <td>0</td>\n",
       "      <td>0</td>\n",
       "      <td>0</td>\n",
       "      <td>0</td>\n",
       "      <td>...</td>\n",
       "      <td>0</td>\n",
       "      <td>0</td>\n",
       "      <td>1.0</td>\n",
       "      <td>0.0</td>\n",
       "      <td>0.0</td>\n",
       "      <td>0.0</td>\n",
       "      <td>0.0</td>\n",
       "      <td>0.0</td>\n",
       "      <td>0.0</td>\n",
       "      <td>0.0</td>\n",
       "    </tr>\n",
       "    <tr>\n",
       "      <th>1</th>\n",
       "      <td>258</td>\n",
       "      <td>2XL</td>\n",
       "      <td>Dark Blue</td>\n",
       "      <td>1</td>\n",
       "      <td>0</td>\n",
       "      <td>0</td>\n",
       "      <td>0</td>\n",
       "      <td>0</td>\n",
       "      <td>0</td>\n",
       "      <td>0</td>\n",
       "      <td>...</td>\n",
       "      <td>0</td>\n",
       "      <td>0</td>\n",
       "      <td>1.0</td>\n",
       "      <td>0.0</td>\n",
       "      <td>0.0</td>\n",
       "      <td>0.0</td>\n",
       "      <td>0.0</td>\n",
       "      <td>0.0</td>\n",
       "      <td>0.0</td>\n",
       "      <td>0.0</td>\n",
       "    </tr>\n",
       "    <tr>\n",
       "      <th>2</th>\n",
       "      <td>228</td>\n",
       "      <td>One Size</td>\n",
       "      <td>Cream</td>\n",
       "      <td>1</td>\n",
       "      <td>0</td>\n",
       "      <td>0</td>\n",
       "      <td>0</td>\n",
       "      <td>0</td>\n",
       "      <td>0</td>\n",
       "      <td>1</td>\n",
       "      <td>...</td>\n",
       "      <td>0</td>\n",
       "      <td>0</td>\n",
       "      <td>0.0</td>\n",
       "      <td>0.0</td>\n",
       "      <td>0.0</td>\n",
       "      <td>0.0</td>\n",
       "      <td>0.0</td>\n",
       "      <td>1.0</td>\n",
       "      <td>0.0</td>\n",
       "      <td>0.0</td>\n",
       "    </tr>\n",
       "    <tr>\n",
       "      <th>3</th>\n",
       "      <td>264</td>\n",
       "      <td>XL</td>\n",
       "      <td>Dark Blue</td>\n",
       "      <td>1</td>\n",
       "      <td>0</td>\n",
       "      <td>0</td>\n",
       "      <td>0</td>\n",
       "      <td>0</td>\n",
       "      <td>0</td>\n",
       "      <td>0</td>\n",
       "      <td>...</td>\n",
       "      <td>0</td>\n",
       "      <td>0</td>\n",
       "      <td>0.0</td>\n",
       "      <td>0.0</td>\n",
       "      <td>0.0</td>\n",
       "      <td>0.0</td>\n",
       "      <td>0.0</td>\n",
       "      <td>0.0</td>\n",
       "      <td>0.0</td>\n",
       "      <td>1.0</td>\n",
       "    </tr>\n",
       "    <tr>\n",
       "      <th>4</th>\n",
       "      <td>264</td>\n",
       "      <td>M</td>\n",
       "      <td>Dark Blue</td>\n",
       "      <td>1</td>\n",
       "      <td>0</td>\n",
       "      <td>0</td>\n",
       "      <td>0</td>\n",
       "      <td>0</td>\n",
       "      <td>0</td>\n",
       "      <td>0</td>\n",
       "      <td>...</td>\n",
       "      <td>0</td>\n",
       "      <td>0</td>\n",
       "      <td>0.0</td>\n",
       "      <td>0.0</td>\n",
       "      <td>0.0</td>\n",
       "      <td>0.0</td>\n",
       "      <td>1.0</td>\n",
       "      <td>0.0</td>\n",
       "      <td>0.0</td>\n",
       "      <td>0.0</td>\n",
       "    </tr>\n",
       "  </tbody>\n",
       "</table>\n",
       "<p>5 rows × 24 columns</p>\n",
       "</div>"
      ],
      "text/plain": [
       "   revenue      size      color  qr_(0, 1]  qr_(1, 2]  pr_(0, 50]  \\\n",
       "0      298       2XL  Dark Blue          1          0           0   \n",
       "1      258       2XL  Dark Blue          1          0           0   \n",
       "2      228  One Size      Cream          1          0           0   \n",
       "3      264        XL  Dark Blue          1          0           0   \n",
       "4      264         M  Dark Blue          1          0           0   \n",
       "\n",
       "   pr_(50, 100]  pr_(100, 150]  pr_(150, 200]  pr_(200, 250]  ...  dr_(6, 9]  \\\n",
       "0             0              0              0              0  ...          0   \n",
       "1             0              0              0              0  ...          0   \n",
       "2             0              0              0              1  ...          0   \n",
       "3             0              0              0              0  ...          0   \n",
       "4             0              0              0              0  ...          0   \n",
       "\n",
       "   dr_(9, 12]  2XL  3XL  4XL    L    M  One Size    S   XL  \n",
       "0           0  1.0  0.0  0.0  0.0  0.0       0.0  0.0  0.0  \n",
       "1           0  1.0  0.0  0.0  0.0  0.0       0.0  0.0  0.0  \n",
       "2           0  0.0  0.0  0.0  0.0  0.0       1.0  0.0  0.0  \n",
       "3           0  0.0  0.0  0.0  0.0  0.0       0.0  0.0  1.0  \n",
       "4           0  0.0  0.0  0.0  0.0  1.0       0.0  0.0  0.0  \n",
       "\n",
       "[5 rows x 24 columns]"
      ]
     },
     "execution_count": 61,
     "metadata": {},
     "output_type": "execute_result"
    }
   ],
   "source": [
    "from sklearn.preprocessing import OneHotEncoder\n",
    "ohe = OneHotEncoder()\n",
    "feature_arry = ohe.fit_transform(df_data[['size']]).toarray()\n",
    "feature_labels = ohe.categories_\n",
    "feature_labels = np.array(feature_labels).ravel()\n",
    "features = pd.DataFrame(feature_arry,columns = feature_labels)\n",
    "df_data1=pd.concat([df_data,features], axis=1)\n",
    "df_data1.head()"
   ]
  },
  {
   "cell_type": "code",
   "execution_count": 63,
   "metadata": {},
   "outputs": [
    {
     "data": {
      "text/html": [
       "<div>\n",
       "<style scoped>\n",
       "    .dataframe tbody tr th:only-of-type {\n",
       "        vertical-align: middle;\n",
       "    }\n",
       "\n",
       "    .dataframe tbody tr th {\n",
       "        vertical-align: top;\n",
       "    }\n",
       "\n",
       "    .dataframe thead th {\n",
       "        text-align: right;\n",
       "    }\n",
       "</style>\n",
       "<table border=\"1\" class=\"dataframe\">\n",
       "  <thead>\n",
       "    <tr style=\"text-align: right;\">\n",
       "      <th></th>\n",
       "      <th>revenue</th>\n",
       "      <th>size</th>\n",
       "      <th>color</th>\n",
       "      <th>qr_(0, 1]</th>\n",
       "      <th>qr_(1, 2]</th>\n",
       "      <th>pr_(0, 50]</th>\n",
       "      <th>pr_(50, 100]</th>\n",
       "      <th>pr_(100, 150]</th>\n",
       "      <th>pr_(150, 200]</th>\n",
       "      <th>pr_(200, 250]</th>\n",
       "      <th>...</th>\n",
       "      <th>Light Wash</th>\n",
       "      <th>Maroon</th>\n",
       "      <th>Matcha</th>\n",
       "      <th>Mid Wash</th>\n",
       "      <th>Navy Blue</th>\n",
       "      <th>Pink</th>\n",
       "      <th>Red Orange</th>\n",
       "      <th>Thin Black</th>\n",
       "      <th>Thin Blue</th>\n",
       "      <th>White</th>\n",
       "    </tr>\n",
       "  </thead>\n",
       "  <tbody>\n",
       "    <tr>\n",
       "      <th>0</th>\n",
       "      <td>298</td>\n",
       "      <td>2XL</td>\n",
       "      <td>Dark Blue</td>\n",
       "      <td>1</td>\n",
       "      <td>0</td>\n",
       "      <td>0</td>\n",
       "      <td>0</td>\n",
       "      <td>0</td>\n",
       "      <td>0</td>\n",
       "      <td>0</td>\n",
       "      <td>...</td>\n",
       "      <td>0.0</td>\n",
       "      <td>0.0</td>\n",
       "      <td>0.0</td>\n",
       "      <td>0.0</td>\n",
       "      <td>0.0</td>\n",
       "      <td>0.0</td>\n",
       "      <td>0.0</td>\n",
       "      <td>0.0</td>\n",
       "      <td>0.0</td>\n",
       "      <td>0.0</td>\n",
       "    </tr>\n",
       "    <tr>\n",
       "      <th>1</th>\n",
       "      <td>258</td>\n",
       "      <td>2XL</td>\n",
       "      <td>Dark Blue</td>\n",
       "      <td>1</td>\n",
       "      <td>0</td>\n",
       "      <td>0</td>\n",
       "      <td>0</td>\n",
       "      <td>0</td>\n",
       "      <td>0</td>\n",
       "      <td>0</td>\n",
       "      <td>...</td>\n",
       "      <td>0.0</td>\n",
       "      <td>0.0</td>\n",
       "      <td>0.0</td>\n",
       "      <td>0.0</td>\n",
       "      <td>0.0</td>\n",
       "      <td>0.0</td>\n",
       "      <td>0.0</td>\n",
       "      <td>0.0</td>\n",
       "      <td>0.0</td>\n",
       "      <td>0.0</td>\n",
       "    </tr>\n",
       "    <tr>\n",
       "      <th>2</th>\n",
       "      <td>228</td>\n",
       "      <td>One Size</td>\n",
       "      <td>Cream</td>\n",
       "      <td>1</td>\n",
       "      <td>0</td>\n",
       "      <td>0</td>\n",
       "      <td>0</td>\n",
       "      <td>0</td>\n",
       "      <td>0</td>\n",
       "      <td>1</td>\n",
       "      <td>...</td>\n",
       "      <td>0.0</td>\n",
       "      <td>0.0</td>\n",
       "      <td>0.0</td>\n",
       "      <td>0.0</td>\n",
       "      <td>0.0</td>\n",
       "      <td>0.0</td>\n",
       "      <td>0.0</td>\n",
       "      <td>0.0</td>\n",
       "      <td>0.0</td>\n",
       "      <td>0.0</td>\n",
       "    </tr>\n",
       "    <tr>\n",
       "      <th>3</th>\n",
       "      <td>264</td>\n",
       "      <td>XL</td>\n",
       "      <td>Dark Blue</td>\n",
       "      <td>1</td>\n",
       "      <td>0</td>\n",
       "      <td>0</td>\n",
       "      <td>0</td>\n",
       "      <td>0</td>\n",
       "      <td>0</td>\n",
       "      <td>0</td>\n",
       "      <td>...</td>\n",
       "      <td>0.0</td>\n",
       "      <td>0.0</td>\n",
       "      <td>0.0</td>\n",
       "      <td>0.0</td>\n",
       "      <td>0.0</td>\n",
       "      <td>0.0</td>\n",
       "      <td>0.0</td>\n",
       "      <td>0.0</td>\n",
       "      <td>0.0</td>\n",
       "      <td>0.0</td>\n",
       "    </tr>\n",
       "    <tr>\n",
       "      <th>4</th>\n",
       "      <td>264</td>\n",
       "      <td>M</td>\n",
       "      <td>Dark Blue</td>\n",
       "      <td>1</td>\n",
       "      <td>0</td>\n",
       "      <td>0</td>\n",
       "      <td>0</td>\n",
       "      <td>0</td>\n",
       "      <td>0</td>\n",
       "      <td>0</td>\n",
       "      <td>...</td>\n",
       "      <td>0.0</td>\n",
       "      <td>0.0</td>\n",
       "      <td>0.0</td>\n",
       "      <td>0.0</td>\n",
       "      <td>0.0</td>\n",
       "      <td>0.0</td>\n",
       "      <td>0.0</td>\n",
       "      <td>0.0</td>\n",
       "      <td>0.0</td>\n",
       "      <td>0.0</td>\n",
       "    </tr>\n",
       "  </tbody>\n",
       "</table>\n",
       "<p>5 rows × 48 columns</p>\n",
       "</div>"
      ],
      "text/plain": [
       "   revenue      size      color  qr_(0, 1]  qr_(1, 2]  pr_(0, 50]  \\\n",
       "0      298       2XL  Dark Blue          1          0           0   \n",
       "1      258       2XL  Dark Blue          1          0           0   \n",
       "2      228  One Size      Cream          1          0           0   \n",
       "3      264        XL  Dark Blue          1          0           0   \n",
       "4      264         M  Dark Blue          1          0           0   \n",
       "\n",
       "   pr_(50, 100]  pr_(100, 150]  pr_(150, 200]  pr_(200, 250]  ...  Light Wash  \\\n",
       "0             0              0              0              0  ...         0.0   \n",
       "1             0              0              0              0  ...         0.0   \n",
       "2             0              0              0              1  ...         0.0   \n",
       "3             0              0              0              0  ...         0.0   \n",
       "4             0              0              0              0  ...         0.0   \n",
       "\n",
       "   Maroon  Matcha  Mid Wash  Navy Blue  Pink  Red Orange  Thin Black  \\\n",
       "0     0.0     0.0       0.0        0.0   0.0         0.0         0.0   \n",
       "1     0.0     0.0       0.0        0.0   0.0         0.0         0.0   \n",
       "2     0.0     0.0       0.0        0.0   0.0         0.0         0.0   \n",
       "3     0.0     0.0       0.0        0.0   0.0         0.0         0.0   \n",
       "4     0.0     0.0       0.0        0.0   0.0         0.0         0.0   \n",
       "\n",
       "   Thin Blue  White  \n",
       "0        0.0    0.0  \n",
       "1        0.0    0.0  \n",
       "2        0.0    0.0  \n",
       "3        0.0    0.0  \n",
       "4        0.0    0.0  \n",
       "\n",
       "[5 rows x 48 columns]"
      ]
     },
     "execution_count": 63,
     "metadata": {},
     "output_type": "execute_result"
    }
   ],
   "source": [
    "ohe = OneHotEncoder()\n",
    "feature_arry = ohe.fit_transform(df_data[['color']]).toarray()\n",
    "feature_labels = ohe.categories_\n",
    "feature_labels = np.array(feature_labels).ravel()\n",
    "features2=pd.DataFrame(feature_arry,columns = feature_labels)\n",
    "df_data2=pd.concat([df_data1,features2], axis=1)\n",
    "df_data2.head()"
   ]
  },
  {
   "cell_type": "code",
   "execution_count": 66,
   "metadata": {},
   "outputs": [
    {
     "data": {
      "text/html": [
       "<div>\n",
       "<style scoped>\n",
       "    .dataframe tbody tr th:only-of-type {\n",
       "        vertical-align: middle;\n",
       "    }\n",
       "\n",
       "    .dataframe tbody tr th {\n",
       "        vertical-align: top;\n",
       "    }\n",
       "\n",
       "    .dataframe thead th {\n",
       "        text-align: right;\n",
       "    }\n",
       "</style>\n",
       "<table border=\"1\" class=\"dataframe\">\n",
       "  <thead>\n",
       "    <tr style=\"text-align: right;\">\n",
       "      <th></th>\n",
       "      <th>revenue</th>\n",
       "      <th>qr_(0, 1]</th>\n",
       "      <th>qr_(1, 2]</th>\n",
       "      <th>pr_(0, 50]</th>\n",
       "      <th>pr_(50, 100]</th>\n",
       "      <th>pr_(100, 150]</th>\n",
       "      <th>pr_(150, 200]</th>\n",
       "      <th>pr_(200, 250]</th>\n",
       "      <th>pr_(250, 300]</th>\n",
       "      <th>pr_(300, 350]</th>\n",
       "      <th>...</th>\n",
       "      <th>Light Wash</th>\n",
       "      <th>Maroon</th>\n",
       "      <th>Matcha</th>\n",
       "      <th>Mid Wash</th>\n",
       "      <th>Navy Blue</th>\n",
       "      <th>Pink</th>\n",
       "      <th>Red Orange</th>\n",
       "      <th>Thin Black</th>\n",
       "      <th>Thin Blue</th>\n",
       "      <th>White</th>\n",
       "    </tr>\n",
       "  </thead>\n",
       "  <tbody>\n",
       "    <tr>\n",
       "      <th>0</th>\n",
       "      <td>298</td>\n",
       "      <td>1</td>\n",
       "      <td>0</td>\n",
       "      <td>0</td>\n",
       "      <td>0</td>\n",
       "      <td>0</td>\n",
       "      <td>0</td>\n",
       "      <td>0</td>\n",
       "      <td>1</td>\n",
       "      <td>0</td>\n",
       "      <td>...</td>\n",
       "      <td>0.0</td>\n",
       "      <td>0.0</td>\n",
       "      <td>0.0</td>\n",
       "      <td>0.0</td>\n",
       "      <td>0.0</td>\n",
       "      <td>0.0</td>\n",
       "      <td>0.0</td>\n",
       "      <td>0.0</td>\n",
       "      <td>0.0</td>\n",
       "      <td>0.0</td>\n",
       "    </tr>\n",
       "    <tr>\n",
       "      <th>1</th>\n",
       "      <td>258</td>\n",
       "      <td>1</td>\n",
       "      <td>0</td>\n",
       "      <td>0</td>\n",
       "      <td>0</td>\n",
       "      <td>0</td>\n",
       "      <td>0</td>\n",
       "      <td>0</td>\n",
       "      <td>1</td>\n",
       "      <td>0</td>\n",
       "      <td>...</td>\n",
       "      <td>0.0</td>\n",
       "      <td>0.0</td>\n",
       "      <td>0.0</td>\n",
       "      <td>0.0</td>\n",
       "      <td>0.0</td>\n",
       "      <td>0.0</td>\n",
       "      <td>0.0</td>\n",
       "      <td>0.0</td>\n",
       "      <td>0.0</td>\n",
       "      <td>0.0</td>\n",
       "    </tr>\n",
       "    <tr>\n",
       "      <th>2</th>\n",
       "      <td>228</td>\n",
       "      <td>1</td>\n",
       "      <td>0</td>\n",
       "      <td>0</td>\n",
       "      <td>0</td>\n",
       "      <td>0</td>\n",
       "      <td>0</td>\n",
       "      <td>1</td>\n",
       "      <td>0</td>\n",
       "      <td>0</td>\n",
       "      <td>...</td>\n",
       "      <td>0.0</td>\n",
       "      <td>0.0</td>\n",
       "      <td>0.0</td>\n",
       "      <td>0.0</td>\n",
       "      <td>0.0</td>\n",
       "      <td>0.0</td>\n",
       "      <td>0.0</td>\n",
       "      <td>0.0</td>\n",
       "      <td>0.0</td>\n",
       "      <td>0.0</td>\n",
       "    </tr>\n",
       "    <tr>\n",
       "      <th>3</th>\n",
       "      <td>264</td>\n",
       "      <td>1</td>\n",
       "      <td>0</td>\n",
       "      <td>0</td>\n",
       "      <td>0</td>\n",
       "      <td>0</td>\n",
       "      <td>0</td>\n",
       "      <td>0</td>\n",
       "      <td>1</td>\n",
       "      <td>0</td>\n",
       "      <td>...</td>\n",
       "      <td>0.0</td>\n",
       "      <td>0.0</td>\n",
       "      <td>0.0</td>\n",
       "      <td>0.0</td>\n",
       "      <td>0.0</td>\n",
       "      <td>0.0</td>\n",
       "      <td>0.0</td>\n",
       "      <td>0.0</td>\n",
       "      <td>0.0</td>\n",
       "      <td>0.0</td>\n",
       "    </tr>\n",
       "    <tr>\n",
       "      <th>4</th>\n",
       "      <td>264</td>\n",
       "      <td>1</td>\n",
       "      <td>0</td>\n",
       "      <td>0</td>\n",
       "      <td>0</td>\n",
       "      <td>0</td>\n",
       "      <td>0</td>\n",
       "      <td>0</td>\n",
       "      <td>1</td>\n",
       "      <td>0</td>\n",
       "      <td>...</td>\n",
       "      <td>0.0</td>\n",
       "      <td>0.0</td>\n",
       "      <td>0.0</td>\n",
       "      <td>0.0</td>\n",
       "      <td>0.0</td>\n",
       "      <td>0.0</td>\n",
       "      <td>0.0</td>\n",
       "      <td>0.0</td>\n",
       "      <td>0.0</td>\n",
       "      <td>0.0</td>\n",
       "    </tr>\n",
       "  </tbody>\n",
       "</table>\n",
       "<p>5 rows × 46 columns</p>\n",
       "</div>"
      ],
      "text/plain": [
       "   revenue  qr_(0, 1]  qr_(1, 2]  pr_(0, 50]  pr_(50, 100]  pr_(100, 150]  \\\n",
       "0      298          1          0           0             0              0   \n",
       "1      258          1          0           0             0              0   \n",
       "2      228          1          0           0             0              0   \n",
       "3      264          1          0           0             0              0   \n",
       "4      264          1          0           0             0              0   \n",
       "\n",
       "   pr_(150, 200]  pr_(200, 250]  pr_(250, 300]  pr_(300, 350]  ...  \\\n",
       "0              0              0              1              0  ...   \n",
       "1              0              0              1              0  ...   \n",
       "2              0              1              0              0  ...   \n",
       "3              0              0              1              0  ...   \n",
       "4              0              0              1              0  ...   \n",
       "\n",
       "   Light Wash  Maroon  Matcha  Mid Wash  Navy Blue  Pink  Red Orange  \\\n",
       "0         0.0     0.0     0.0       0.0        0.0   0.0         0.0   \n",
       "1         0.0     0.0     0.0       0.0        0.0   0.0         0.0   \n",
       "2         0.0     0.0     0.0       0.0        0.0   0.0         0.0   \n",
       "3         0.0     0.0     0.0       0.0        0.0   0.0         0.0   \n",
       "4         0.0     0.0     0.0       0.0        0.0   0.0         0.0   \n",
       "\n",
       "   Thin Black  Thin Blue  White  \n",
       "0         0.0        0.0    0.0  \n",
       "1         0.0        0.0    0.0  \n",
       "2         0.0        0.0    0.0  \n",
       "3         0.0        0.0    0.0  \n",
       "4         0.0        0.0    0.0  \n",
       "\n",
       "[5 rows x 46 columns]"
      ]
     },
     "execution_count": 66,
     "metadata": {},
     "output_type": "execute_result"
    }
   ],
   "source": [
    "final = df_data2.drop([\"size\",\"color\"],axis='columns')\n",
    "final.head()"
   ]
  },
  {
   "cell_type": "code",
   "execution_count": 67,
   "metadata": {},
   "outputs": [
    {
     "data": {
      "text/plain": [
       "Index(['revenue', 'qr_(0, 1]', 'qr_(1, 2]', 'pr_(0, 50]', 'pr_(50, 100]',\n",
       "       'pr_(100, 150]', 'pr_(150, 200]', 'pr_(200, 250]', 'pr_(250, 300]',\n",
       "       'pr_(300, 350]', 'dr_(0, 3]', 'dr_(3, 6]', 'dr_(6, 9]', 'dr_(9, 12]',\n",
       "       '2XL', '3XL', '4XL', 'L', 'M', 'One Size', 'S', 'XL', '920 Navy blue',\n",
       "       '922 Army green', '922 Black', 'Black', 'Black Stripes', 'Blue',\n",
       "       'Blue Stripes', 'Cream', 'Dark Blue', 'Dark Wash', 'Gray Stripes',\n",
       "       'Grey Wash', 'Light Blue', 'Light Gray', 'Light Wash', 'Maroon',\n",
       "       'Matcha', 'Mid Wash', 'Navy Blue', 'Pink', 'Red Orange', 'Thin Black',\n",
       "       'Thin Blue', 'White'],\n",
       "      dtype='object')"
      ]
     },
     "execution_count": 67,
     "metadata": {},
     "output_type": "execute_result"
    }
   ],
   "source": [
    "final.columns"
   ]
  },
  {
   "cell_type": "markdown",
   "metadata": {},
   "source": [
    "Train-Test split\n",
    "Now we have to split our data into train-test data to be able to train our model and validate its capabilities."
   ]
  },
  {
   "cell_type": "code",
   "execution_count": 68,
   "metadata": {},
   "outputs": [],
   "source": [
    "y = final['revenue']\n",
    "X = final.drop(columns=['revenue'])"
   ]
  },
  {
   "cell_type": "code",
   "execution_count": 69,
   "metadata": {},
   "outputs": [],
   "source": [
    "from sklearn.model_selection import train_test_split\n",
    "X_train, X_test, y_train, y_test = train_test_split(X, y, test_size = 0.20, random_state=10)"
   ]
  },
  {
   "cell_type": "markdown",
   "metadata": {},
   "source": [
    "on our linear regression model we are getting negative values we can do dimensionality reduction on the color feature"
   ]
  },
  {
   "cell_type": "code",
   "execution_count": 70,
   "metadata": {},
   "outputs": [
    {
     "data": {
      "text/plain": [
       "-8.42267437712453e+22"
      ]
     },
     "execution_count": 70,
     "metadata": {},
     "output_type": "execute_result"
    }
   ],
   "source": [
    "from sklearn.linear_model import LinearRegression\n",
    "lr_clf = LinearRegression()\n",
    "lr_clf.fit(X_train,y_train)\n",
    "lr_clf.score(X_test,y_test)"
   ]
  },
  {
   "cell_type": "markdown",
   "metadata": {},
   "source": [
    "Testing and validating different models\n",
    "Here we use GridSearch and CrossValidation to test three types of regressors: Linear, DecisionTree and RandomForest. This can take a while...;"
   ]
  },
  {
   "cell_type": "markdown",
   "metadata": {},
   "source": [
    "Use K Fold cross validation to measure accuracy of our LinearRegression model"
   ]
  },
  {
   "cell_type": "code",
   "execution_count": 71,
   "metadata": {},
   "outputs": [
    {
     "data": {
      "text/plain": [
       "array([-2.33043396e+21, -2.81790935e+23, -5.81594543e+24, -3.35606465e+23,\n",
       "       -2.43298491e+23])"
      ]
     },
     "execution_count": 71,
     "metadata": {},
     "output_type": "execute_result"
    }
   ],
   "source": [
    "from sklearn.model_selection import ShuffleSplit\n",
    "from sklearn.model_selection import cross_val_score\n",
    "\n",
    "cv = ShuffleSplit(n_splits=5, test_size=0.2, random_state=0)\n",
    "\n",
    "cross_val_score(LinearRegression(), X, y, cv=cv)"
   ]
  },
  {
   "cell_type": "markdown",
   "metadata": {},
   "source": [
    "We can see that in 5 iterations we get a score above 60% all the time. This isn't pretty good but we want to test few other algorithms for regression to see if we can get even better score. We will use GridSearchCV for this purpose"
   ]
  },
  {
   "cell_type": "code",
   "execution_count": 72,
   "metadata": {},
   "outputs": [],
   "source": [
    "from sklearn.model_selection import GridSearchCV\n",
    "from sklearn.ensemble import RandomForestRegressor\n",
    "from sklearn.tree import DecisionTreeRegressor\n",
    "\n",
    "def find_best_model_using_gridsearchcv(X,y):\n",
    "    algos = {\n",
    "        'linear_regression' : {\n",
    "            'model': LinearRegression(),\n",
    "            'params': {\n",
    "                'fit_intercept': [True, False],\n",
    "         \n",
    "            }\n",
    "        },\n",
    "        'random_forest': {\n",
    "            'model': RandomForestRegressor(),\n",
    "            'params': {\n",
    "                'n_estimators': [100, 200, 300],\n",
    "                'max_depth': [10, 20, 30, None],\n",
    "                'min_samples_split': [2, 5, 10],\n",
    "                'min_samples_leaf': [1, 2, 4],\n",
    "                'bootstrap': [True, False]\n",
    "            }\n",
    "        },\n",
    "        'decision_tree': {\n",
    "            'model': DecisionTreeRegressor(),\n",
    "            'params': {\n",
    "                'criterion' : ['squared_error','friedman_mse'],\n",
    "                'splitter': ['best','random']\n",
    "            }\n",
    "        }\n",
    "    }\n",
    "    scores = []\n",
    "    cv = ShuffleSplit(n_splits=5, test_size=0.2, random_state=0)\n",
    "    for algo_name, config in algos.items():\n",
    "        gs =  GridSearchCV(config['model'], config['params'], cv=cv, return_train_score=False)\n",
    "        gs.fit(X,y)\n",
    "        scores.append({\n",
    "            'model': algo_name,\n",
    "            'best_score': gs.best_score_,\n",
    "            'best_params': gs.best_params_\n",
    "        })\n",
    "\n",
    "    return pd.DataFrame(scores,columns=['model','best_score','best_params'])\n",
    "\n",
    "find_best_model_using_gridsearchcv(X,y)"
   ]
  },
  {
   "cell_type": "markdown",
   "metadata": {},
   "source": [
    "base on the above scores our model seems to be having all the algorithms have the same score maybe work on datapreprocessing,feature engineering or even do ensemble methods "
   ]
  },
  {
   "cell_type": "code",
   "execution_count": null,
   "metadata": {},
   "outputs": [
    {
     "name": "stdout",
     "output_type": "stream",
     "text": [
      "Index(['qr_(0, 1]', 'qr_(1, 2]', 'pr_(0, 50]', 'pr_(50, 100]', 'pr_(100, 150]',\n",
      "       'pr_(150, 200]', 'pr_(200, 250]', 'pr_(250, 300]', 'pr_(300, 350]',\n",
      "       'dr_(0, 3]', 'dr_(3, 6]', 'dr_(6, 9]', 'dr_(9, 12]', 'size_2XL',\n",
      "       'size_3XL', 'size_4XL', 'size_L', 'size_M', 'size_One Size', 'size_S',\n",
      "       'size_XL', 'color_920 Navy blue', 'color_922 Army green',\n",
      "       'color_922 Black', 'color_Black', 'color_Black Stripes', 'color_Blue',\n",
      "       'color_Blue Stripes', 'color_Cream', 'color_Dark Blue',\n",
      "       'color_Dark Wash', 'color_Gray Stripes', 'color_Grey Wash',\n",
      "       'color_Light Blue', 'color_Light Gray', 'color_Light Wash',\n",
      "       'color_Maroon', 'color_Matcha', 'color_Mid Wash', 'color_Navy Blue',\n",
      "       'color_Pink', 'color_Red Orange', 'color_Thin Black', 'color_Thin Blue',\n",
      "       'color_White'],\n",
      "      dtype='object')\n"
     ]
    }
   ],
   "source": [
    "print(X.columns)"
   ]
  },
  {
   "cell_type": "markdown",
   "metadata": {},
   "source": [
    "exporting model to pickle file"
   ]
  },
  {
   "cell_type": "markdown",
   "metadata": {},
   "source": [
    "# Save the model to a pickle file"
   ]
  },
  {
   "cell_type": "code",
   "execution_count": null,
   "metadata": {},
   "outputs": [],
   "source": [
    "import pickle \n",
    "with open('sales_predictions.pkl','wb') as f:\n",
    "    pickle.dump(lr_clf,f)"
   ]
  },
  {
   "cell_type": "code",
   "execution_count": null,
   "metadata": {},
   "outputs": [
    {
     "data": {
      "text/plain": [
       "'sample_data = [[1, 200, \\'8:2022\\']]  # Example input features for prediction\\npredicted_class = loaded_model.predict(sample_data)\\nprint(\"Predicted class:\", predicted_class)'"
      ]
     },
     "execution_count": 252,
     "metadata": {},
     "output_type": "execute_result"
    }
   ],
   "source": [
    "with open('sales_predictions.pkl', 'rb') as f:\n",
    "    loaded_model = pickle.load(f)\n",
    "\n",
    "# Example prediction\n",
    "'''sample_data = [[1, 200, '8:2022']]  # Example input features for prediction\n",
    "predicted_class = loaded_model.predict(sample_data)\n",
    "print(\"Predicted class:\", predicted_class)'''"
   ]
  },
  {
   "cell_type": "code",
   "execution_count": null,
   "metadata": {},
   "outputs": [],
   "source": [
    "import json\n",
    "columns = {\n",
    "    'data_columns' : [col.lower() for col in X.columns]\n",
    "}\n",
    "with open(\"columns.json\",\"w\") as f:\n",
    "    f.write(json.dumps(columns))"
   ]
  }
 ],
 "metadata": {
  "kernelspec": {
   "display_name": "Python 3",
   "language": "python",
   "name": "python3"
  },
  "language_info": {
   "codemirror_mode": {
    "name": "ipython",
    "version": 3
   },
   "file_extension": ".py",
   "mimetype": "text/x-python",
   "name": "python",
   "nbconvert_exporter": "python",
   "pygments_lexer": "ipython3",
   "version": "3.12.0"
  }
 },
 "nbformat": 4,
 "nbformat_minor": 2
}
